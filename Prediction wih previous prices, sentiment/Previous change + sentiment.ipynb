{
 "cells": [
  {
   "cell_type": "markdown",
   "metadata": {},
   "source": [
    "# Data Wrangling"
   ]
  },
  {
   "cell_type": "markdown",
   "metadata": {},
   "source": [
    "### Loading in required packages"
   ]
  },
  {
   "cell_type": "code",
   "execution_count": 1,
   "metadata": {},
   "outputs": [
    {
     "name": "stdout",
     "output_type": "stream",
     "text": [
      "showing info https://raw.githubusercontent.com/nltk/nltk_data/gh-pages/index.xml\n"
     ]
    },
    {
     "name": "stderr",
     "output_type": "stream",
     "text": [
      "C:\\Users\\Prasanth\\Anaconda3\\lib\\site-packages\\nltk\\twitter\\__init__.py:20: UserWarning: The twython library has not been installed. Some functionality from the twitter package will not be available.\n",
      "  warnings.warn(\"The twython library has not been installed. \"\n"
     ]
    }
   ],
   "source": [
    "import nltk\n",
    "nltk.download()\n",
    "from nltk.corpus import stopwords\n",
    "from nltk.tokenize import RegexpTokenizer\n",
    "from nltk.classify.scikitlearn import SklearnClassifier\n",
    "from nltk.sentiment.vader import SentimentIntensityAnalyzer as SIA\n",
    "\n",
    "import numpy as np\n",
    "import pandas as pd\n",
    "\n",
    "from sklearn.naive_bayes import MultinomialNB, BernoulliNB\n",
    "from sklearn.linear_model import LogisticRegression, SGDClassifier\n",
    "from sklearn.svm import LinearSVC\n",
    "from sklearn.ensemble import RandomForestClassifier"
   ]
  },
  {
   "cell_type": "markdown",
   "metadata": {},
   "source": [
    "### Loading in Reddit World Headline news and daily sentiment score"
   ]
  },
  {
   "cell_type": "code",
   "execution_count": 3,
   "metadata": {},
   "outputs": [],
   "source": [
    "news = pd.read_csv(r\"C:\\Users\\Prasanth\\Downloads\\M.S. Data Science Academics\\2nd Sem\\Machine Learning\\Projects\\RedditNews.csv\")"
   ]
  },
  {
   "cell_type": "code",
   "execution_count": 4,
   "metadata": {},
   "outputs": [
    {
     "data": {
      "text/html": [
       "<div>\n",
       "<style>\n",
       "    .dataframe thead tr:only-child th {\n",
       "        text-align: right;\n",
       "    }\n",
       "\n",
       "    .dataframe thead th {\n",
       "        text-align: left;\n",
       "    }\n",
       "\n",
       "    .dataframe tbody tr th {\n",
       "        vertical-align: top;\n",
       "    }\n",
       "</style>\n",
       "<table border=\"1\" class=\"dataframe\">\n",
       "  <thead>\n",
       "    <tr style=\"text-align: right;\">\n",
       "      <th></th>\n",
       "      <th>Date</th>\n",
       "      <th>News</th>\n",
       "    </tr>\n",
       "  </thead>\n",
       "  <tbody>\n",
       "    <tr>\n",
       "      <th>1</th>\n",
       "      <td>2016-07-01</td>\n",
       "      <td>IMF chief backs Athens as permanent Olympic host</td>\n",
       "    </tr>\n",
       "    <tr>\n",
       "      <th>2</th>\n",
       "      <td>2016-07-01</td>\n",
       "      <td>The president of France says if Brexit won, so...</td>\n",
       "    </tr>\n",
       "    <tr>\n",
       "      <th>3</th>\n",
       "      <td>2016-07-01</td>\n",
       "      <td>British Man Who Must Give Police 24 Hours' Not...</td>\n",
       "    </tr>\n",
       "    <tr>\n",
       "      <th>4</th>\n",
       "      <td>2016-07-01</td>\n",
       "      <td>100+ Nobel laureates urge Greenpeace to stop o...</td>\n",
       "    </tr>\n",
       "    <tr>\n",
       "      <th>5</th>\n",
       "      <td>2016-07-01</td>\n",
       "      <td>Brazil: Huge spike in number of police killing...</td>\n",
       "    </tr>\n",
       "    <tr>\n",
       "      <th>6</th>\n",
       "      <td>2016-07-01</td>\n",
       "      <td>Austria's highest court annuls presidential el...</td>\n",
       "    </tr>\n",
       "    <tr>\n",
       "      <th>7</th>\n",
       "      <td>2016-07-01</td>\n",
       "      <td>Facebook wins privacy case, can track any Belg...</td>\n",
       "    </tr>\n",
       "    <tr>\n",
       "      <th>8</th>\n",
       "      <td>2016-07-01</td>\n",
       "      <td>Switzerland denies Muslim girls citizenship af...</td>\n",
       "    </tr>\n",
       "    <tr>\n",
       "      <th>9</th>\n",
       "      <td>2016-07-01</td>\n",
       "      <td>China kills millions of innocent meditators fo...</td>\n",
       "    </tr>\n",
       "  </tbody>\n",
       "</table>\n",
       "</div>"
      ],
      "text/plain": [
       "         Date                                               News\n",
       "1  2016-07-01   IMF chief backs Athens as permanent Olympic host\n",
       "2  2016-07-01  The president of France says if Brexit won, so...\n",
       "3  2016-07-01  British Man Who Must Give Police 24 Hours' Not...\n",
       "4  2016-07-01  100+ Nobel laureates urge Greenpeace to stop o...\n",
       "5  2016-07-01  Brazil: Huge spike in number of police killing...\n",
       "6  2016-07-01  Austria's highest court annuls presidential el...\n",
       "7  2016-07-01  Facebook wins privacy case, can track any Belg...\n",
       "8  2016-07-01  Switzerland denies Muslim girls citizenship af...\n",
       "9  2016-07-01  China kills millions of innocent meditators fo..."
      ]
     },
     "execution_count": 4,
     "metadata": {},
     "output_type": "execute_result"
    }
   ],
   "source": [
    "news[1:10]\n",
    "\n",
    "# world news!!! Predicting American markets with world news"
   ]
  },
  {
   "cell_type": "code",
   "execution_count": 5,
   "metadata": {},
   "outputs": [],
   "source": [
    "news_list = news['News']"
   ]
  },
  {
   "cell_type": "code",
   "execution_count": 6,
   "metadata": {},
   "outputs": [],
   "source": [
    "sia = SIA()\n",
    "sentiment = []\n",
    "\n",
    "for i in news_list:\n",
    "    compound_score = sia.polarity_scores(i)\n",
    "    sentiment.append(compound_score[\"compound\"])"
   ]
  },
  {
   "cell_type": "code",
   "execution_count": 43,
   "metadata": {},
   "outputs": [
    {
     "data": {
      "text/plain": [
       "[-0.0516, 0.5719, -0.8658, -0.296, -0.4404, -0.3182, 0.5612, -0.7351, -0.2732]"
      ]
     },
     "execution_count": 43,
     "metadata": {},
     "output_type": "execute_result"
    }
   ],
   "source": [
    "sentiment[1:10]"
   ]
  },
  {
   "cell_type": "code",
   "execution_count": 7,
   "metadata": {},
   "outputs": [],
   "source": [
    "news['sentiment_score'] = sentiment"
   ]
  },
  {
   "cell_type": "code",
   "execution_count": 8,
   "metadata": {},
   "outputs": [],
   "source": [
    "grouped_news = pd.DataFrame(news.groupby(['Date'])['sentiment_score'].mean())"
   ]
  },
  {
   "cell_type": "code",
   "execution_count": 9,
   "metadata": {},
   "outputs": [],
   "source": [
    "grouped_news['Date'] = grouped_news.index"
   ]
  },
  {
   "cell_type": "code",
   "execution_count": 10,
   "metadata": {},
   "outputs": [
    {
     "data": {
      "text/html": [
       "<div>\n",
       "<style>\n",
       "    .dataframe thead tr:only-child th {\n",
       "        text-align: right;\n",
       "    }\n",
       "\n",
       "    .dataframe thead th {\n",
       "        text-align: left;\n",
       "    }\n",
       "\n",
       "    .dataframe tbody tr th {\n",
       "        vertical-align: top;\n",
       "    }\n",
       "</style>\n",
       "<table border=\"1\" class=\"dataframe\">\n",
       "  <thead>\n",
       "    <tr style=\"text-align: right;\">\n",
       "      <th></th>\n",
       "      <th>sentiment_score</th>\n",
       "      <th>Date</th>\n",
       "    </tr>\n",
       "    <tr>\n",
       "      <th>Date</th>\n",
       "      <th></th>\n",
       "      <th></th>\n",
       "    </tr>\n",
       "  </thead>\n",
       "  <tbody>\n",
       "    <tr>\n",
       "      <th>2008-06-09</th>\n",
       "      <td>-0.242536</td>\n",
       "      <td>2008-06-09</td>\n",
       "    </tr>\n",
       "    <tr>\n",
       "      <th>2008-06-10</th>\n",
       "      <td>-0.304740</td>\n",
       "      <td>2008-06-10</td>\n",
       "    </tr>\n",
       "    <tr>\n",
       "      <th>2008-06-11</th>\n",
       "      <td>-0.143736</td>\n",
       "      <td>2008-06-11</td>\n",
       "    </tr>\n",
       "    <tr>\n",
       "      <th>2008-06-12</th>\n",
       "      <td>-0.128564</td>\n",
       "      <td>2008-06-12</td>\n",
       "    </tr>\n",
       "  </tbody>\n",
       "</table>\n",
       "</div>"
      ],
      "text/plain": [
       "            sentiment_score        Date\n",
       "Date                                   \n",
       "2008-06-09        -0.242536  2008-06-09\n",
       "2008-06-10        -0.304740  2008-06-10\n",
       "2008-06-11        -0.143736  2008-06-11\n",
       "2008-06-12        -0.128564  2008-06-12"
      ]
     },
     "execution_count": 10,
     "metadata": {},
     "output_type": "execute_result"
    }
   ],
   "source": [
    "grouped_news[1:5]"
   ]
  },
  {
   "cell_type": "markdown",
   "metadata": {},
   "source": [
    "### Data Wrangling of Prices and pe ratio data set"
   ]
  },
  {
   "cell_type": "code",
   "execution_count": 11,
   "metadata": {},
   "outputs": [],
   "source": [
    "pe = pd.read_csv(r'C:\\Users\\Prasanth\\Downloads\\PE.csv')\n",
    "prices = pd.read_csv(r'C:\\Users\\Prasanth\\Downloads\\DJIA.csv')"
   ]
  },
  {
   "cell_type": "code",
   "execution_count": 12,
   "metadata": {},
   "outputs": [
    {
     "data": {
      "text/html": [
       "<div>\n",
       "<style>\n",
       "    .dataframe thead tr:only-child th {\n",
       "        text-align: right;\n",
       "    }\n",
       "\n",
       "    .dataframe thead th {\n",
       "        text-align: left;\n",
       "    }\n",
       "\n",
       "    .dataframe tbody tr th {\n",
       "        vertical-align: top;\n",
       "    }\n",
       "</style>\n",
       "<table border=\"1\" class=\"dataframe\">\n",
       "  <thead>\n",
       "    <tr style=\"text-align: right;\">\n",
       "      <th></th>\n",
       "      <th>Mar 1, 2018</th>\n",
       "      <th>26</th>\n",
       "    </tr>\n",
       "  </thead>\n",
       "  <tbody>\n",
       "    <tr>\n",
       "      <th>0</th>\n",
       "      <td>Feb 1, 2018</td>\n",
       "      <td>26.30</td>\n",
       "    </tr>\n",
       "    <tr>\n",
       "      <th>1</th>\n",
       "      <td>Jan 1, 2018</td>\n",
       "      <td>25.06</td>\n",
       "    </tr>\n",
       "    <tr>\n",
       "      <th>2</th>\n",
       "      <td>Dec 1, 2017</td>\n",
       "      <td>24.70</td>\n",
       "    </tr>\n",
       "    <tr>\n",
       "      <th>3</th>\n",
       "      <td>Nov 1, 2017</td>\n",
       "      <td>24.09</td>\n",
       "    </tr>\n",
       "  </tbody>\n",
       "</table>\n",
       "</div>"
      ],
      "text/plain": [
       "   Mar 1, 2018     26\n",
       "0  Feb 1, 2018  26.30\n",
       "1  Jan 1, 2018  25.06\n",
       "2  Dec 1, 2017  24.70\n",
       "3  Nov 1, 2017  24.09"
      ]
     },
     "execution_count": 12,
     "metadata": {},
     "output_type": "execute_result"
    }
   ],
   "source": [
    "pe[0:4]"
   ]
  },
  {
   "cell_type": "code",
   "execution_count": 13,
   "metadata": {},
   "outputs": [],
   "source": [
    "pe = pe.rename(index=str, columns={\"Mar 1, 2018\": \"Date\"})\n",
    "pe = pe.rename(index=str, columns={\"26\": \"PE_ratio\"})"
   ]
  },
  {
   "cell_type": "code",
   "execution_count": 55,
   "metadata": {},
   "outputs": [
    {
     "data": {
      "text/plain": [
       "Date        0\n",
       "PE_ratio    0\n",
       "dtype: int64"
      ]
     },
     "execution_count": 55,
     "metadata": {},
     "output_type": "execute_result"
    }
   ],
   "source": [
    "pe.isnull().sum()"
   ]
  },
  {
   "cell_type": "code",
   "execution_count": 92,
   "metadata": {},
   "outputs": [
    {
     "data": {
      "text/html": [
       "<div>\n",
       "<style>\n",
       "    .dataframe thead tr:only-child th {\n",
       "        text-align: right;\n",
       "    }\n",
       "\n",
       "    .dataframe thead th {\n",
       "        text-align: left;\n",
       "    }\n",
       "\n",
       "    .dataframe tbody tr th {\n",
       "        vertical-align: top;\n",
       "    }\n",
       "</style>\n",
       "<table border=\"1\" class=\"dataframe\">\n",
       "  <thead>\n",
       "    <tr style=\"text-align: right;\">\n",
       "      <th></th>\n",
       "      <th>Date</th>\n",
       "      <th>Open</th>\n",
       "      <th>High</th>\n",
       "      <th>Low</th>\n",
       "      <th>Close</th>\n",
       "      <th>Adj Close</th>\n",
       "      <th>Volume</th>\n",
       "    </tr>\n",
       "  </thead>\n",
       "  <tbody>\n",
       "    <tr>\n",
       "      <th>0</th>\n",
       "      <td>1985-01-29</td>\n",
       "      <td>1277.719971</td>\n",
       "      <td>1295.489990</td>\n",
       "      <td>1266.890015</td>\n",
       "      <td>1292.619995</td>\n",
       "      <td>1292.619995</td>\n",
       "      <td>13560000</td>\n",
       "    </tr>\n",
       "    <tr>\n",
       "      <th>1</th>\n",
       "      <td>1985-01-30</td>\n",
       "      <td>1297.369995</td>\n",
       "      <td>1305.099976</td>\n",
       "      <td>1278.930054</td>\n",
       "      <td>1287.880005</td>\n",
       "      <td>1287.880005</td>\n",
       "      <td>16820000</td>\n",
       "    </tr>\n",
       "    <tr>\n",
       "      <th>2</th>\n",
       "      <td>1985-01-31</td>\n",
       "      <td>1283.239990</td>\n",
       "      <td>1293.400024</td>\n",
       "      <td>1272.640015</td>\n",
       "      <td>1286.770020</td>\n",
       "      <td>1286.770020</td>\n",
       "      <td>14070000</td>\n",
       "    </tr>\n",
       "    <tr>\n",
       "      <th>3</th>\n",
       "      <td>1985-02-01</td>\n",
       "      <td>1276.939941</td>\n",
       "      <td>1286.109985</td>\n",
       "      <td>1269.770020</td>\n",
       "      <td>1277.719971</td>\n",
       "      <td>1277.719971</td>\n",
       "      <td>10980000</td>\n",
       "    </tr>\n",
       "  </tbody>\n",
       "</table>\n",
       "</div>"
      ],
      "text/plain": [
       "         Date         Open         High          Low        Close  \\\n",
       "0  1985-01-29  1277.719971  1295.489990  1266.890015  1292.619995   \n",
       "1  1985-01-30  1297.369995  1305.099976  1278.930054  1287.880005   \n",
       "2  1985-01-31  1283.239990  1293.400024  1272.640015  1286.770020   \n",
       "3  1985-02-01  1276.939941  1286.109985  1269.770020  1277.719971   \n",
       "\n",
       "     Adj Close    Volume  \n",
       "0  1292.619995  13560000  \n",
       "1  1287.880005  16820000  \n",
       "2  1286.770020  14070000  \n",
       "3  1277.719971  10980000  "
      ]
     },
     "execution_count": 92,
     "metadata": {},
     "output_type": "execute_result"
    }
   ],
   "source": [
    "prices[0:4]"
   ]
  },
  {
   "cell_type": "code",
   "execution_count": 93,
   "metadata": {},
   "outputs": [
    {
     "data": {
      "text/plain": [
       "Date         0\n",
       "Open         0\n",
       "High         0\n",
       "Low          0\n",
       "Close        0\n",
       "Adj Close    0\n",
       "Volume       0\n",
       "dtype: int64"
      ]
     },
     "execution_count": 93,
     "metadata": {},
     "output_type": "execute_result"
    }
   ],
   "source": [
    "prices.isnull().sum()"
   ]
  },
  {
   "cell_type": "code",
   "execution_count": 14,
   "metadata": {},
   "outputs": [],
   "source": [
    "prices['Change'] = 1"
   ]
  },
  {
   "cell_type": "code",
   "execution_count": 15,
   "metadata": {},
   "outputs": [],
   "source": [
    "prices = prices[len(prices)-2469: len(prices)-420]"
   ]
  },
  {
   "cell_type": "code",
   "execution_count": 111,
   "metadata": {},
   "outputs": [
    {
     "data": {
      "text/plain": [
       "Index(['Date', 'Open', 'High', 'Low', 'Close', 'Adj Close', 'Volume',\n",
       "       'Change'],\n",
       "      dtype='object')"
      ]
     },
     "execution_count": 111,
     "metadata": {},
     "output_type": "execute_result"
    }
   ],
   "source": [
    "prices.columns"
   ]
  },
  {
   "cell_type": "code",
   "execution_count": 16,
   "metadata": {},
   "outputs": [],
   "source": [
    "for i in range(0,(len(prices)-1)):\n",
    "    prices.iloc[i+1,7] = (prices.iloc[i+1,4] - prices.iloc[i,4])/prices.iloc[i,4]"
   ]
  },
  {
   "cell_type": "code",
   "execution_count": 17,
   "metadata": {},
   "outputs": [],
   "source": [
    "pe['month'] = pe['Date'].astype(str)\n",
    "pe['month'] = pe.Date.str[0:3]"
   ]
  },
  {
   "cell_type": "code",
   "execution_count": 18,
   "metadata": {},
   "outputs": [],
   "source": [
    "pe['month_number'] = '00'"
   ]
  },
  {
   "cell_type": "code",
   "execution_count": 182,
   "metadata": {},
   "outputs": [
    {
     "data": {
      "text/plain": [
       "array(['Feb', 'Jan', 'Dec', 'Nov', 'Oct', 'Sep', 'Aug', 'Jul', 'Jun',\n",
       "       'May', 'Apr', 'Mar'], dtype=object)"
      ]
     },
     "execution_count": 182,
     "metadata": {},
     "output_type": "execute_result"
    }
   ],
   "source": [
    "pe['month'].unique()"
   ]
  },
  {
   "cell_type": "code",
   "execution_count": 19,
   "metadata": {},
   "outputs": [
    {
     "name": "stderr",
     "output_type": "stream",
     "text": [
      "C:\\Users\\Prasanth\\Anaconda3\\lib\\site-packages\\ipykernel_launcher.py:5: SettingWithCopyWarning: \n",
      "A value is trying to be set on a copy of a slice from a DataFrame\n",
      "\n",
      "See the caveats in the documentation: http://pandas.pydata.org/pandas-docs/stable/indexing.html#indexing-view-versus-copy\n",
      "  \"\"\"\n",
      "C:\\Users\\Prasanth\\Anaconda3\\lib\\site-packages\\ipykernel_launcher.py:3: SettingWithCopyWarning: \n",
      "A value is trying to be set on a copy of a slice from a DataFrame\n",
      "\n",
      "See the caveats in the documentation: http://pandas.pydata.org/pandas-docs/stable/indexing.html#indexing-view-versus-copy\n",
      "  This is separate from the ipykernel package so we can avoid doing imports until\n",
      "C:\\Users\\Prasanth\\Anaconda3\\lib\\site-packages\\ipykernel_launcher.py:25: SettingWithCopyWarning: \n",
      "A value is trying to be set on a copy of a slice from a DataFrame\n",
      "\n",
      "See the caveats in the documentation: http://pandas.pydata.org/pandas-docs/stable/indexing.html#indexing-view-versus-copy\n",
      "C:\\Users\\Prasanth\\Anaconda3\\lib\\site-packages\\ipykernel_launcher.py:23: SettingWithCopyWarning: \n",
      "A value is trying to be set on a copy of a slice from a DataFrame\n",
      "\n",
      "See the caveats in the documentation: http://pandas.pydata.org/pandas-docs/stable/indexing.html#indexing-view-versus-copy\n",
      "C:\\Users\\Prasanth\\Anaconda3\\lib\\site-packages\\ipykernel_launcher.py:21: SettingWithCopyWarning: \n",
      "A value is trying to be set on a copy of a slice from a DataFrame\n",
      "\n",
      "See the caveats in the documentation: http://pandas.pydata.org/pandas-docs/stable/indexing.html#indexing-view-versus-copy\n",
      "C:\\Users\\Prasanth\\Anaconda3\\lib\\site-packages\\ipykernel_launcher.py:19: SettingWithCopyWarning: \n",
      "A value is trying to be set on a copy of a slice from a DataFrame\n",
      "\n",
      "See the caveats in the documentation: http://pandas.pydata.org/pandas-docs/stable/indexing.html#indexing-view-versus-copy\n",
      "C:\\Users\\Prasanth\\Anaconda3\\lib\\site-packages\\ipykernel_launcher.py:17: SettingWithCopyWarning: \n",
      "A value is trying to be set on a copy of a slice from a DataFrame\n",
      "\n",
      "See the caveats in the documentation: http://pandas.pydata.org/pandas-docs/stable/indexing.html#indexing-view-versus-copy\n",
      "C:\\Users\\Prasanth\\Anaconda3\\lib\\site-packages\\ipykernel_launcher.py:15: SettingWithCopyWarning: \n",
      "A value is trying to be set on a copy of a slice from a DataFrame\n",
      "\n",
      "See the caveats in the documentation: http://pandas.pydata.org/pandas-docs/stable/indexing.html#indexing-view-versus-copy\n",
      "  from ipykernel import kernelapp as app\n",
      "C:\\Users\\Prasanth\\Anaconda3\\lib\\site-packages\\ipykernel_launcher.py:13: SettingWithCopyWarning: \n",
      "A value is trying to be set on a copy of a slice from a DataFrame\n",
      "\n",
      "See the caveats in the documentation: http://pandas.pydata.org/pandas-docs/stable/indexing.html#indexing-view-versus-copy\n",
      "  del sys.path[0]\n",
      "C:\\Users\\Prasanth\\Anaconda3\\lib\\site-packages\\ipykernel_launcher.py:11: SettingWithCopyWarning: \n",
      "A value is trying to be set on a copy of a slice from a DataFrame\n",
      "\n",
      "See the caveats in the documentation: http://pandas.pydata.org/pandas-docs/stable/indexing.html#indexing-view-versus-copy\n",
      "  # This is added back by InteractiveShellApp.init_path()\n",
      "C:\\Users\\Prasanth\\Anaconda3\\lib\\site-packages\\ipykernel_launcher.py:9: SettingWithCopyWarning: \n",
      "A value is trying to be set on a copy of a slice from a DataFrame\n",
      "\n",
      "See the caveats in the documentation: http://pandas.pydata.org/pandas-docs/stable/indexing.html#indexing-view-versus-copy\n",
      "  if __name__ == '__main__':\n",
      "C:\\Users\\Prasanth\\Anaconda3\\lib\\site-packages\\ipykernel_launcher.py:7: SettingWithCopyWarning: \n",
      "A value is trying to be set on a copy of a slice from a DataFrame\n",
      "\n",
      "See the caveats in the documentation: http://pandas.pydata.org/pandas-docs/stable/indexing.html#indexing-view-versus-copy\n",
      "  import sys\n"
     ]
    }
   ],
   "source": [
    "for i in range(0,len(pe)):\n",
    "    if pe['month'][i] == 'Jan':\n",
    "        pe['month_number'][i] = '01'\n",
    "    elif pe['month'][i] == 'Feb':\n",
    "        pe['month_number'][i] = '02'\n",
    "    elif pe['month'][i] == 'Mar':\n",
    "        pe['month_number'][i] = '03'\n",
    "    elif pe['month'][i] == 'Apr':\n",
    "        pe['month_number'][i] = '04'\n",
    "    elif pe['month'][i] == 'May':\n",
    "        pe['month_number'][i] = '05'\n",
    "    elif pe['month'][i] == 'Jun':\n",
    "        pe['month_number'][i] = '06'\n",
    "    elif pe['month'][i] == 'Jul':\n",
    "        pe['month_number'][i] = '07'\n",
    "    elif pe['month'][i] == 'Aug':\n",
    "        pe['month_number'][i] = '08'\n",
    "    elif pe['month'][i] == 'Sep':\n",
    "        pe['month_number'][i] = '09'\n",
    "    elif pe['month'][i] == 'Oct':\n",
    "        pe['month_number'][i] = '10'\n",
    "    elif pe['month'][i] == 'Nov':\n",
    "        pe['month_number'][i] = '11'\n",
    "    elif pe['month'][i] == 'Dec':\n",
    "        pe['month_number'][i] = '12'"
   ]
  },
  {
   "cell_type": "code",
   "execution_count": 184,
   "metadata": {},
   "outputs": [
    {
     "data": {
      "text/plain": [
       "5883    2008-05-28\n",
       "5884    2008-05-29\n",
       "Name: Date, dtype: object"
      ]
     },
     "execution_count": 184,
     "metadata": {},
     "output_type": "execute_result"
    }
   ],
   "source": [
    "prices['Date'][0:2]"
   ]
  },
  {
   "cell_type": "code",
   "execution_count": 20,
   "metadata": {},
   "outputs": [],
   "source": [
    "prices['month'] = prices['Date'].astype(str)\n",
    "prices['month'] = prices.Date.str[5:7]"
   ]
  },
  {
   "cell_type": "code",
   "execution_count": 21,
   "metadata": {},
   "outputs": [],
   "source": [
    "prices['year'] = prices['Date'].astype(str)\n",
    "prices['year'] = prices.Date.str[0:4]"
   ]
  },
  {
   "cell_type": "code",
   "execution_count": 22,
   "metadata": {},
   "outputs": [],
   "source": [
    "prices['month_year'] = prices['month'] + prices['year']"
   ]
  },
  {
   "cell_type": "code",
   "execution_count": 23,
   "metadata": {},
   "outputs": [],
   "source": [
    "pe['year'] = pe['Date'].astype(str)\n",
    "pe['year'] = pe.Date.str[7:11]"
   ]
  },
  {
   "cell_type": "code",
   "execution_count": 24,
   "metadata": {},
   "outputs": [],
   "source": [
    "pe['month_year_com'] = pe['month_number'] + pe['year']"
   ]
  },
  {
   "cell_type": "code",
   "execution_count": 196,
   "metadata": {},
   "outputs": [
    {
     "data": {
      "text/html": [
       "<div>\n",
       "<style>\n",
       "    .dataframe thead tr:only-child th {\n",
       "        text-align: right;\n",
       "    }\n",
       "\n",
       "    .dataframe thead th {\n",
       "        text-align: left;\n",
       "    }\n",
       "\n",
       "    .dataframe tbody tr th {\n",
       "        vertical-align: top;\n",
       "    }\n",
       "</style>\n",
       "<table border=\"1\" class=\"dataframe\">\n",
       "  <thead>\n",
       "    <tr style=\"text-align: right;\">\n",
       "      <th></th>\n",
       "      <th>Date</th>\n",
       "      <th>PE_ratio</th>\n",
       "      <th>month</th>\n",
       "      <th>month_number</th>\n",
       "      <th>year</th>\n",
       "      <th>month_year_com</th>\n",
       "    </tr>\n",
       "  </thead>\n",
       "  <tbody>\n",
       "    <tr>\n",
       "      <th>1</th>\n",
       "      <td>Jan 1, 2018</td>\n",
       "      <td>25.06</td>\n",
       "      <td>Jan</td>\n",
       "      <td>01</td>\n",
       "      <td>2018</td>\n",
       "      <td>012018</td>\n",
       "    </tr>\n",
       "    <tr>\n",
       "      <th>2</th>\n",
       "      <td>Dec 1, 2017</td>\n",
       "      <td>24.70</td>\n",
       "      <td>Dec</td>\n",
       "      <td>12</td>\n",
       "      <td>2017</td>\n",
       "      <td>122017</td>\n",
       "    </tr>\n",
       "    <tr>\n",
       "      <th>3</th>\n",
       "      <td>Nov 1, 2017</td>\n",
       "      <td>24.09</td>\n",
       "      <td>Nov</td>\n",
       "      <td>11</td>\n",
       "      <td>2017</td>\n",
       "      <td>112017</td>\n",
       "    </tr>\n",
       "  </tbody>\n",
       "</table>\n",
       "</div>"
      ],
      "text/plain": [
       "          Date  PE_ratio month month_number  year month_year_com\n",
       "1  Jan 1, 2018     25.06   Jan           01  2018         012018\n",
       "2  Dec 1, 2017     24.70   Dec           12  2017         122017\n",
       "3  Nov 1, 2017     24.09   Nov           11  2017         112017"
      ]
     },
     "execution_count": 196,
     "metadata": {},
     "output_type": "execute_result"
    }
   ],
   "source": [
    "pe[1:4]"
   ]
  },
  {
   "cell_type": "code",
   "execution_count": 197,
   "metadata": {},
   "outputs": [
    {
     "data": {
      "text/html": [
       "<div>\n",
       "<style>\n",
       "    .dataframe thead tr:only-child th {\n",
       "        text-align: right;\n",
       "    }\n",
       "\n",
       "    .dataframe thead th {\n",
       "        text-align: left;\n",
       "    }\n",
       "\n",
       "    .dataframe tbody tr th {\n",
       "        vertical-align: top;\n",
       "    }\n",
       "</style>\n",
       "<table border=\"1\" class=\"dataframe\">\n",
       "  <thead>\n",
       "    <tr style=\"text-align: right;\">\n",
       "      <th></th>\n",
       "      <th>Date</th>\n",
       "      <th>Open</th>\n",
       "      <th>High</th>\n",
       "      <th>Low</th>\n",
       "      <th>Close</th>\n",
       "      <th>Adj Close</th>\n",
       "      <th>Volume</th>\n",
       "      <th>Change</th>\n",
       "      <th>month</th>\n",
       "      <th>year</th>\n",
       "      <th>month_year</th>\n",
       "    </tr>\n",
       "  </thead>\n",
       "  <tbody>\n",
       "    <tr>\n",
       "      <th>5883</th>\n",
       "      <td>2008-05-28</td>\n",
       "      <td>12542.900391</td>\n",
       "      <td>12601.929688</td>\n",
       "      <td>12495.269531</td>\n",
       "      <td>12594.030273</td>\n",
       "      <td>12594.030273</td>\n",
       "      <td>213680000</td>\n",
       "      <td>1.000000</td>\n",
       "      <td>05</td>\n",
       "      <td>2008</td>\n",
       "      <td>052008</td>\n",
       "    </tr>\n",
       "    <tr>\n",
       "      <th>5884</th>\n",
       "      <td>2008-05-29</td>\n",
       "      <td>12593.870117</td>\n",
       "      <td>12726.660156</td>\n",
       "      <td>12554.700195</td>\n",
       "      <td>12646.219727</td>\n",
       "      <td>12646.219727</td>\n",
       "      <td>206420000</td>\n",
       "      <td>0.004144</td>\n",
       "      <td>05</td>\n",
       "      <td>2008</td>\n",
       "      <td>052008</td>\n",
       "    </tr>\n",
       "    <tr>\n",
       "      <th>5885</th>\n",
       "      <td>2008-05-30</td>\n",
       "      <td>12647.360352</td>\n",
       "      <td>12689.700195</td>\n",
       "      <td>12617.400391</td>\n",
       "      <td>12638.320313</td>\n",
       "      <td>12638.320313</td>\n",
       "      <td>210230000</td>\n",
       "      <td>-0.000625</td>\n",
       "      <td>05</td>\n",
       "      <td>2008</td>\n",
       "      <td>052008</td>\n",
       "    </tr>\n",
       "    <tr>\n",
       "      <th>5886</th>\n",
       "      <td>2008-06-02</td>\n",
       "      <td>12637.669922</td>\n",
       "      <td>12638.080078</td>\n",
       "      <td>12427.769531</td>\n",
       "      <td>12503.820313</td>\n",
       "      <td>12503.820313</td>\n",
       "      <td>199090000</td>\n",
       "      <td>-0.010642</td>\n",
       "      <td>06</td>\n",
       "      <td>2008</td>\n",
       "      <td>062008</td>\n",
       "    </tr>\n",
       "  </tbody>\n",
       "</table>\n",
       "</div>"
      ],
      "text/plain": [
       "            Date          Open          High           Low         Close  \\\n",
       "5883  2008-05-28  12542.900391  12601.929688  12495.269531  12594.030273   \n",
       "5884  2008-05-29  12593.870117  12726.660156  12554.700195  12646.219727   \n",
       "5885  2008-05-30  12647.360352  12689.700195  12617.400391  12638.320313   \n",
       "5886  2008-06-02  12637.669922  12638.080078  12427.769531  12503.820313   \n",
       "\n",
       "         Adj Close     Volume    Change month  year month_year  \n",
       "5883  12594.030273  213680000  1.000000    05  2008     052008  \n",
       "5884  12646.219727  206420000  0.004144    05  2008     052008  \n",
       "5885  12638.320313  210230000 -0.000625    05  2008     052008  \n",
       "5886  12503.820313  199090000 -0.010642    06  2008     062008  "
      ]
     },
     "execution_count": 197,
     "metadata": {},
     "output_type": "execute_result"
    }
   ],
   "source": [
    "prices[0:4]"
   ]
  },
  {
   "cell_type": "code",
   "execution_count": 165,
   "metadata": {},
   "outputs": [
    {
     "data": {
      "text/html": [
       "<div>\n",
       "<style>\n",
       "    .dataframe thead tr:only-child th {\n",
       "        text-align: right;\n",
       "    }\n",
       "\n",
       "    .dataframe thead th {\n",
       "        text-align: left;\n",
       "    }\n",
       "\n",
       "    .dataframe tbody tr th {\n",
       "        vertical-align: top;\n",
       "    }\n",
       "</style>\n",
       "<table border=\"1\" class=\"dataframe\">\n",
       "  <thead>\n",
       "    <tr style=\"text-align: right;\">\n",
       "      <th></th>\n",
       "      <th>Date</th>\n",
       "      <th>PE_ratio</th>\n",
       "      <th>month</th>\n",
       "      <th>month_number</th>\n",
       "      <th>year</th>\n",
       "      <th>month_year_com</th>\n",
       "    </tr>\n",
       "  </thead>\n",
       "  <tbody>\n",
       "    <tr>\n",
       "      <th>0</th>\n",
       "      <td>Feb 1, 2018</td>\n",
       "      <td>26.30</td>\n",
       "      <td>Feb</td>\n",
       "      <td>02</td>\n",
       "      <td>2018</td>\n",
       "      <td>022018</td>\n",
       "    </tr>\n",
       "    <tr>\n",
       "      <th>1</th>\n",
       "      <td>Jan 1, 2018</td>\n",
       "      <td>25.06</td>\n",
       "      <td>Jan</td>\n",
       "      <td>01</td>\n",
       "      <td>2018</td>\n",
       "      <td>012018</td>\n",
       "    </tr>\n",
       "    <tr>\n",
       "      <th>2</th>\n",
       "      <td>Dec 1, 2017</td>\n",
       "      <td>24.70</td>\n",
       "      <td>Dec</td>\n",
       "      <td>12</td>\n",
       "      <td>2017</td>\n",
       "      <td>122017</td>\n",
       "    </tr>\n",
       "    <tr>\n",
       "      <th>3</th>\n",
       "      <td>Nov 1, 2017</td>\n",
       "      <td>24.09</td>\n",
       "      <td>Nov</td>\n",
       "      <td>11</td>\n",
       "      <td>2017</td>\n",
       "      <td>112017</td>\n",
       "    </tr>\n",
       "  </tbody>\n",
       "</table>\n",
       "</div>"
      ],
      "text/plain": [
       "          Date  PE_ratio month month_number  year month_year_com\n",
       "0  Feb 1, 2018     26.30   Feb           02  2018         022018\n",
       "1  Jan 1, 2018     25.06   Jan           01  2018         012018\n",
       "2  Dec 1, 2017     24.70   Dec           12  2017         122017\n",
       "3  Nov 1, 2017     24.09   Nov           11  2017         112017"
      ]
     },
     "execution_count": 165,
     "metadata": {},
     "output_type": "execute_result"
    }
   ],
   "source": [
    "pe[0:4]"
   ]
  },
  {
   "cell_type": "markdown",
   "metadata": {},
   "source": [
    "### Joining the price and PE data sets"
   ]
  },
  {
   "cell_type": "code",
   "execution_count": 25,
   "metadata": {},
   "outputs": [],
   "source": [
    "merged = pd.merge(prices,\n",
    "                     pe,\n",
    "                     left_on='month_year',\n",
    "                     right_on='month_year_com',\n",
    "                     how='left')"
   ]
  },
  {
   "cell_type": "code",
   "execution_count": 70,
   "metadata": {},
   "outputs": [
    {
     "data": {
      "text/plain": [
       "Index(['Date_x', 'Open', 'High', 'Low', 'Close', 'Adj Close', 'Volume',\n",
       "       'Change', 'month_x', 'year_x', 'month_year', 'Date_y', 'PE_ratio',\n",
       "       'month_y', 'month_number', 'year_y', 'month_year_com'],\n",
       "      dtype='object')"
      ]
     },
     "execution_count": 70,
     "metadata": {},
     "output_type": "execute_result"
    }
   ],
   "source": [
    "merged.columns"
   ]
  },
  {
   "cell_type": "code",
   "execution_count": 199,
   "metadata": {},
   "outputs": [
    {
     "data": {
      "text/html": [
       "<div>\n",
       "<style>\n",
       "    .dataframe thead tr:only-child th {\n",
       "        text-align: right;\n",
       "    }\n",
       "\n",
       "    .dataframe thead th {\n",
       "        text-align: left;\n",
       "    }\n",
       "\n",
       "    .dataframe tbody tr th {\n",
       "        vertical-align: top;\n",
       "    }\n",
       "</style>\n",
       "<table border=\"1\" class=\"dataframe\">\n",
       "  <thead>\n",
       "    <tr style=\"text-align: right;\">\n",
       "      <th></th>\n",
       "      <th>Date_x</th>\n",
       "      <th>Open</th>\n",
       "      <th>High</th>\n",
       "      <th>Low</th>\n",
       "      <th>Close</th>\n",
       "      <th>Adj Close</th>\n",
       "      <th>Volume</th>\n",
       "      <th>Change</th>\n",
       "      <th>month_x</th>\n",
       "      <th>year_x</th>\n",
       "      <th>month_year</th>\n",
       "      <th>Date_y</th>\n",
       "      <th>PE_ratio</th>\n",
       "      <th>month_y</th>\n",
       "      <th>month_number</th>\n",
       "      <th>year_y</th>\n",
       "      <th>month_year_com</th>\n",
       "    </tr>\n",
       "  </thead>\n",
       "  <tbody>\n",
       "    <tr>\n",
       "      <th>0</th>\n",
       "      <td>2008-05-28</td>\n",
       "      <td>12542.900391</td>\n",
       "      <td>12601.929688</td>\n",
       "      <td>12495.269531</td>\n",
       "      <td>12594.030273</td>\n",
       "      <td>12594.030273</td>\n",
       "      <td>213680000</td>\n",
       "      <td>1.000000</td>\n",
       "      <td>05</td>\n",
       "      <td>2008</td>\n",
       "      <td>052008</td>\n",
       "      <td>May 1, 2008</td>\n",
       "      <td>25.81</td>\n",
       "      <td>May</td>\n",
       "      <td>05</td>\n",
       "      <td>2008</td>\n",
       "      <td>052008</td>\n",
       "    </tr>\n",
       "    <tr>\n",
       "      <th>1</th>\n",
       "      <td>2008-05-29</td>\n",
       "      <td>12593.870117</td>\n",
       "      <td>12726.660156</td>\n",
       "      <td>12554.700195</td>\n",
       "      <td>12646.219727</td>\n",
       "      <td>12646.219727</td>\n",
       "      <td>206420000</td>\n",
       "      <td>0.004144</td>\n",
       "      <td>05</td>\n",
       "      <td>2008</td>\n",
       "      <td>052008</td>\n",
       "      <td>May 1, 2008</td>\n",
       "      <td>25.81</td>\n",
       "      <td>May</td>\n",
       "      <td>05</td>\n",
       "      <td>2008</td>\n",
       "      <td>052008</td>\n",
       "    </tr>\n",
       "    <tr>\n",
       "      <th>2</th>\n",
       "      <td>2008-05-30</td>\n",
       "      <td>12647.360352</td>\n",
       "      <td>12689.700195</td>\n",
       "      <td>12617.400391</td>\n",
       "      <td>12638.320313</td>\n",
       "      <td>12638.320313</td>\n",
       "      <td>210230000</td>\n",
       "      <td>-0.000625</td>\n",
       "      <td>05</td>\n",
       "      <td>2008</td>\n",
       "      <td>052008</td>\n",
       "      <td>May 1, 2008</td>\n",
       "      <td>25.81</td>\n",
       "      <td>May</td>\n",
       "      <td>05</td>\n",
       "      <td>2008</td>\n",
       "      <td>052008</td>\n",
       "    </tr>\n",
       "    <tr>\n",
       "      <th>3</th>\n",
       "      <td>2008-06-02</td>\n",
       "      <td>12637.669922</td>\n",
       "      <td>12638.080078</td>\n",
       "      <td>12427.769531</td>\n",
       "      <td>12503.820313</td>\n",
       "      <td>12503.820313</td>\n",
       "      <td>199090000</td>\n",
       "      <td>-0.010642</td>\n",
       "      <td>06</td>\n",
       "      <td>2008</td>\n",
       "      <td>062008</td>\n",
       "      <td>Jun 1, 2008</td>\n",
       "      <td>26.11</td>\n",
       "      <td>Jun</td>\n",
       "      <td>06</td>\n",
       "      <td>2008</td>\n",
       "      <td>062008</td>\n",
       "    </tr>\n",
       "  </tbody>\n",
       "</table>\n",
       "</div>"
      ],
      "text/plain": [
       "       Date_x          Open          High           Low         Close  \\\n",
       "0  2008-05-28  12542.900391  12601.929688  12495.269531  12594.030273   \n",
       "1  2008-05-29  12593.870117  12726.660156  12554.700195  12646.219727   \n",
       "2  2008-05-30  12647.360352  12689.700195  12617.400391  12638.320313   \n",
       "3  2008-06-02  12637.669922  12638.080078  12427.769531  12503.820313   \n",
       "\n",
       "      Adj Close     Volume    Change month_x year_x month_year       Date_y  \\\n",
       "0  12594.030273  213680000  1.000000      05   2008     052008  May 1, 2008   \n",
       "1  12646.219727  206420000  0.004144      05   2008     052008  May 1, 2008   \n",
       "2  12638.320313  210230000 -0.000625      05   2008     052008  May 1, 2008   \n",
       "3  12503.820313  199090000 -0.010642      06   2008     062008  Jun 1, 2008   \n",
       "\n",
       "   PE_ratio month_y month_number year_y month_year_com  \n",
       "0     25.81     May           05   2008         052008  \n",
       "1     25.81     May           05   2008         052008  \n",
       "2     25.81     May           05   2008         052008  \n",
       "3     26.11     Jun           06   2008         062008  "
      ]
     },
     "execution_count": 199,
     "metadata": {},
     "output_type": "execute_result"
    }
   ],
   "source": [
    "merged[0:4]"
   ]
  },
  {
   "cell_type": "code",
   "execution_count": 26,
   "metadata": {},
   "outputs": [],
   "source": [
    "final_df = merged[['Date_x', 'PE_ratio', 'Change']]"
   ]
  },
  {
   "cell_type": "code",
   "execution_count": 27,
   "metadata": {},
   "outputs": [
    {
     "name": "stderr",
     "output_type": "stream",
     "text": [
      "C:\\Users\\Prasanth\\Anaconda3\\lib\\site-packages\\ipykernel_launcher.py:1: SettingWithCopyWarning: \n",
      "A value is trying to be set on a copy of a slice from a DataFrame.\n",
      "Try using .loc[row_indexer,col_indexer] = value instead\n",
      "\n",
      "See the caveats in the documentation: http://pandas.pydata.org/pandas-docs/stable/indexing.html#indexing-view-versus-copy\n",
      "  \"\"\"Entry point for launching an IPython kernel.\n",
      "C:\\Users\\Prasanth\\Anaconda3\\lib\\site-packages\\ipykernel_launcher.py:2: SettingWithCopyWarning: \n",
      "A value is trying to be set on a copy of a slice from a DataFrame.\n",
      "Try using .loc[row_indexer,col_indexer] = value instead\n",
      "\n",
      "See the caveats in the documentation: http://pandas.pydata.org/pandas-docs/stable/indexing.html#indexing-view-versus-copy\n",
      "  \n"
     ]
    }
   ],
   "source": [
    "final_df['PE_ratio'] = final_df['PE_ratio'].astype(float)\n",
    "final_df['Change'] = final_df['Change'].astype(float)"
   ]
  },
  {
   "cell_type": "code",
   "execution_count": 142,
   "metadata": {},
   "outputs": [
    {
     "data": {
      "text/plain": [
       "(2049, 3)"
      ]
     },
     "execution_count": 142,
     "metadata": {},
     "output_type": "execute_result"
    }
   ],
   "source": [
    "final_df.shape"
   ]
  },
  {
   "cell_type": "code",
   "execution_count": 81,
   "metadata": {},
   "outputs": [
    {
     "data": {
      "text/plain": [
       "'2008-06-08'"
      ]
     },
     "execution_count": 81,
     "metadata": {},
     "output_type": "execute_result"
    }
   ],
   "source": [
    "grouped_news['Date'][0]"
   ]
  },
  {
   "cell_type": "code",
   "execution_count": 83,
   "metadata": {},
   "outputs": [
    {
     "data": {
      "text/plain": [
       "'2016-07-01'"
      ]
     },
     "execution_count": 83,
     "metadata": {},
     "output_type": "execute_result"
    }
   ],
   "source": [
    "grouped_news['Date'][len(grouped_news)-1]"
   ]
  },
  {
   "cell_type": "code",
   "execution_count": null,
   "metadata": {},
   "outputs": [],
   "source": [
    "# I need to cut final_df"
   ]
  },
  {
   "cell_type": "code",
   "execution_count": 213,
   "metadata": {},
   "outputs": [
    {
     "data": {
      "text/plain": [
       "'2008-06-09'"
      ]
     },
     "execution_count": 213,
     "metadata": {},
     "output_type": "execute_result"
    }
   ],
   "source": [
    "final_df['Date_x'][8]"
   ]
  },
  {
   "cell_type": "code",
   "execution_count": 224,
   "metadata": {},
   "outputs": [
    {
     "data": {
      "text/plain": [
       "'2016-07-01'"
      ]
     },
     "execution_count": 224,
     "metadata": {},
     "output_type": "execute_result"
    }
   ],
   "source": [
    "final_df['Date_x'][2039]"
   ]
  },
  {
   "cell_type": "code",
   "execution_count": 28,
   "metadata": {},
   "outputs": [],
   "source": [
    "final_df = final_df[8:2040]"
   ]
  },
  {
   "cell_type": "code",
   "execution_count": 241,
   "metadata": {},
   "outputs": [
    {
     "data": {
      "text/plain": [
       "Index(['sentiment_score', 'Date'], dtype='object')"
      ]
     },
     "execution_count": 241,
     "metadata": {},
     "output_type": "execute_result"
    }
   ],
   "source": [
    "grouped_news.columns"
   ]
  },
  {
   "cell_type": "code",
   "execution_count": null,
   "metadata": {},
   "outputs": [],
   "source": [
    "# I think its better for me to calculate the sentiment predictor variables before I merge"
   ]
  },
  {
   "cell_type": "code",
   "execution_count": 29,
   "metadata": {},
   "outputs": [],
   "source": [
    "grouped_news['sentiment_five'] = None\n",
    "for i in range(7, len(grouped_news)):\n",
    "    grouped_news.iloc[i,2] = grouped_news.iloc[i-7:i+1,0].mean()"
   ]
  },
  {
   "cell_type": "code",
   "execution_count": 30,
   "metadata": {},
   "outputs": [],
   "source": [
    "grouped_news['sentiment_month'] = None\n",
    "for i in range(30, len(grouped_news)):\n",
    "    grouped_news.iloc[i,3] = grouped_news.iloc[i-30:i+1,0].mean()"
   ]
  },
  {
   "cell_type": "code",
   "execution_count": 31,
   "metadata": {},
   "outputs": [],
   "source": [
    "grouped_news['sentiment_year'] = None\n",
    "for i in range(365, len(grouped_news)):\n",
    "    grouped_news.iloc[i,4] = grouped_news.iloc[i-365:i+1,0].mean()"
   ]
  },
  {
   "cell_type": "code",
   "execution_count": 32,
   "metadata": {},
   "outputs": [],
   "source": [
    "# Just imputing the mean\n",
    "\n",
    "grouped_news = grouped_news.fillna(grouped_news.mean())"
   ]
  },
  {
   "cell_type": "markdown",
   "metadata": {},
   "source": [
    "### Building the final data frame (merger of all the 3 data sets)"
   ]
  },
  {
   "cell_type": "code",
   "execution_count": 33,
   "metadata": {},
   "outputs": [],
   "source": [
    "merged_final = pd.merge(grouped_news,\n",
    "                  final_df,\n",
    "                  left_on='Date',\n",
    "                  right_on='Date_x',\n",
    "                  how='right')\n",
    "\n",
    "# Now we have a final data frame. Took care of the exact range since I need to get rid of weekdays"
   ]
  },
  {
   "cell_type": "code",
   "execution_count": 289,
   "metadata": {},
   "outputs": [
    {
     "data": {
      "text/html": [
       "<div>\n",
       "<style>\n",
       "    .dataframe thead tr:only-child th {\n",
       "        text-align: right;\n",
       "    }\n",
       "\n",
       "    .dataframe thead th {\n",
       "        text-align: left;\n",
       "    }\n",
       "\n",
       "    .dataframe tbody tr th {\n",
       "        vertical-align: top;\n",
       "    }\n",
       "</style>\n",
       "<table border=\"1\" class=\"dataframe\">\n",
       "  <thead>\n",
       "    <tr style=\"text-align: right;\">\n",
       "      <th></th>\n",
       "      <th>sentiment_score</th>\n",
       "      <th>Date</th>\n",
       "      <th>sentiment_five</th>\n",
       "      <th>sentiment_month</th>\n",
       "      <th>sentiment_year</th>\n",
       "      <th>Date_x</th>\n",
       "      <th>PE_ratio</th>\n",
       "      <th>Change</th>\n",
       "      <th>change_five</th>\n",
       "      <th>change_month</th>\n",
       "      <th>change_year</th>\n",
       "    </tr>\n",
       "  </thead>\n",
       "  <tbody>\n",
       "    <tr>\n",
       "      <th>0</th>\n",
       "      <td>-0.242536</td>\n",
       "      <td>2008-06-09</td>\n",
       "      <td>-0.212552</td>\n",
       "      <td>-0.212691</td>\n",
       "      <td>-0.214041</td>\n",
       "      <td>2008-06-09</td>\n",
       "      <td>26.11</td>\n",
       "      <td>0.005775</td>\n",
       "      <td>None</td>\n",
       "      <td>None</td>\n",
       "      <td>None</td>\n",
       "    </tr>\n",
       "    <tr>\n",
       "      <th>1</th>\n",
       "      <td>-0.304740</td>\n",
       "      <td>2008-06-10</td>\n",
       "      <td>-0.212552</td>\n",
       "      <td>-0.212691</td>\n",
       "      <td>-0.214041</td>\n",
       "      <td>2008-06-10</td>\n",
       "      <td>26.11</td>\n",
       "      <td>0.000769</td>\n",
       "      <td>None</td>\n",
       "      <td>None</td>\n",
       "      <td>None</td>\n",
       "    </tr>\n",
       "    <tr>\n",
       "      <th>2</th>\n",
       "      <td>-0.143736</td>\n",
       "      <td>2008-06-11</td>\n",
       "      <td>-0.212552</td>\n",
       "      <td>-0.212691</td>\n",
       "      <td>-0.214041</td>\n",
       "      <td>2008-06-11</td>\n",
       "      <td>26.11</td>\n",
       "      <td>-0.016761</td>\n",
       "      <td>None</td>\n",
       "      <td>None</td>\n",
       "      <td>None</td>\n",
       "    </tr>\n",
       "    <tr>\n",
       "      <th>3</th>\n",
       "      <td>-0.128564</td>\n",
       "      <td>2008-06-12</td>\n",
       "      <td>-0.212552</td>\n",
       "      <td>-0.212691</td>\n",
       "      <td>-0.214041</td>\n",
       "      <td>2008-06-12</td>\n",
       "      <td>26.11</td>\n",
       "      <td>0.004784</td>\n",
       "      <td>None</td>\n",
       "      <td>None</td>\n",
       "      <td>None</td>\n",
       "    </tr>\n",
       "    <tr>\n",
       "      <th>4</th>\n",
       "      <td>-0.252312</td>\n",
       "      <td>2008-06-13</td>\n",
       "      <td>-0.212552</td>\n",
       "      <td>-0.212691</td>\n",
       "      <td>-0.214041</td>\n",
       "      <td>2008-06-13</td>\n",
       "      <td>26.11</td>\n",
       "      <td>0.013653</td>\n",
       "      <td>None</td>\n",
       "      <td>None</td>\n",
       "      <td>None</td>\n",
       "    </tr>\n",
       "  </tbody>\n",
       "</table>\n",
       "</div>"
      ],
      "text/plain": [
       "   sentiment_score        Date  sentiment_five  sentiment_month  \\\n",
       "0        -0.242536  2008-06-09       -0.212552        -0.212691   \n",
       "1        -0.304740  2008-06-10       -0.212552        -0.212691   \n",
       "2        -0.143736  2008-06-11       -0.212552        -0.212691   \n",
       "3        -0.128564  2008-06-12       -0.212552        -0.212691   \n",
       "4        -0.252312  2008-06-13       -0.212552        -0.212691   \n",
       "\n",
       "   sentiment_year      Date_x  PE_ratio    Change change_five change_month  \\\n",
       "0       -0.214041  2008-06-09     26.11  0.005775        None         None   \n",
       "1       -0.214041  2008-06-10     26.11  0.000769        None         None   \n",
       "2       -0.214041  2008-06-11     26.11 -0.016761        None         None   \n",
       "3       -0.214041  2008-06-12     26.11  0.004784        None         None   \n",
       "4       -0.214041  2008-06-13     26.11  0.013653        None         None   \n",
       "\n",
       "  change_year  \n",
       "0        None  \n",
       "1        None  \n",
       "2        None  \n",
       "3        None  \n",
       "4        None  "
      ]
     },
     "execution_count": 289,
     "metadata": {},
     "output_type": "execute_result"
    }
   ],
   "source": [
    "merged_final[0:5]"
   ]
  },
  {
   "cell_type": "code",
   "execution_count": 34,
   "metadata": {},
   "outputs": [],
   "source": [
    "merged_final['change_five'] = None\n",
    "merged_final['change_month'] = None\n",
    "merged_final['change_year'] = None"
   ]
  },
  {
   "cell_type": "code",
   "execution_count": 280,
   "metadata": {},
   "outputs": [
    {
     "data": {
      "text/plain": [
       "Index(['sentiment_score', 'Date', 'sentiment_five', 'sentiment_month',\n",
       "       'sentiment_year', 'Date_x', 'PE_ratio', 'Change', 'change_five',\n",
       "       'change_month', 'change_year'],\n",
       "      dtype='object')"
      ]
     },
     "execution_count": 280,
     "metadata": {},
     "output_type": "execute_result"
    }
   ],
   "source": [
    "merged_final.columns"
   ]
  },
  {
   "cell_type": "code",
   "execution_count": 35,
   "metadata": {},
   "outputs": [],
   "source": [
    "for i in range(4,len(merged_final)):\n",
    "    merged_final.iloc[i,8] = merged_final.iloc[i-4:i+1,7].mean()"
   ]
  },
  {
   "cell_type": "code",
   "execution_count": 36,
   "metadata": {},
   "outputs": [],
   "source": [
    "for i in range(20, len(merged_final)):\n",
    "    merged_final.iloc[i,9] = merged_final.iloc[i-20:i+1,7].mean()"
   ]
  },
  {
   "cell_type": "code",
   "execution_count": 37,
   "metadata": {},
   "outputs": [],
   "source": [
    "for i in range(250, len(merged_final)):\n",
    "    merged_final.iloc[i,10] = merged_final.iloc[i-250:i+1,7].mean()"
   ]
  },
  {
   "cell_type": "code",
   "execution_count": 38,
   "metadata": {},
   "outputs": [],
   "source": [
    "# Just imputing the mean\n",
    "\n",
    "merged_final = merged_final.fillna(merged_final.mean())"
   ]
  },
  {
   "cell_type": "code",
   "execution_count": 40,
   "metadata": {},
   "outputs": [],
   "source": [
    "merged_final['Response'] = None"
   ]
  },
  {
   "cell_type": "code",
   "execution_count": 41,
   "metadata": {},
   "outputs": [
    {
     "data": {
      "text/plain": [
       "Index(['sentiment_score', 'Date', 'sentiment_five', 'sentiment_month',\n",
       "       'sentiment_year', 'Date_x', 'PE_ratio', 'Change', 'change_five',\n",
       "       'change_month', 'change_year', 'Response'],\n",
       "      dtype='object')"
      ]
     },
     "execution_count": 41,
     "metadata": {},
     "output_type": "execute_result"
    }
   ],
   "source": [
    "merged_final.columns"
   ]
  },
  {
   "cell_type": "code",
   "execution_count": 42,
   "metadata": {},
   "outputs": [],
   "source": [
    "for i in range(0,(len(merged_final)-1)):\n",
    "    merged_final.iloc[i,11] = merged_final.iloc[i+1,7]"
   ]
  },
  {
   "cell_type": "code",
   "execution_count": 43,
   "metadata": {},
   "outputs": [],
   "source": [
    "merged_final = merged_final.fillna(merged_final.mean())"
   ]
  },
  {
   "cell_type": "code",
   "execution_count": 52,
   "metadata": {},
   "outputs": [],
   "source": [
    "merged_final['Res_cat'] = 2\n",
    "\n",
    "for i in range(0,len(merged_final)):\n",
    "    if merged_final.iloc[i,11] >= 0:\n",
    "        merged_final.iloc[i,12] = 1\n",
    "    else:\n",
    "        merged_final.iloc[i,12] = 0"
   ]
  },
  {
   "cell_type": "code",
   "execution_count": 53,
   "metadata": {
    "scrolled": true
   },
   "outputs": [
    {
     "data": {
      "text/html": [
       "<div>\n",
       "<style>\n",
       "    .dataframe thead tr:only-child th {\n",
       "        text-align: right;\n",
       "    }\n",
       "\n",
       "    .dataframe thead th {\n",
       "        text-align: left;\n",
       "    }\n",
       "\n",
       "    .dataframe tbody tr th {\n",
       "        vertical-align: top;\n",
       "    }\n",
       "</style>\n",
       "<table border=\"1\" class=\"dataframe\">\n",
       "  <thead>\n",
       "    <tr style=\"text-align: right;\">\n",
       "      <th></th>\n",
       "      <th>sentiment_score</th>\n",
       "      <th>Date</th>\n",
       "      <th>sentiment_five</th>\n",
       "      <th>sentiment_month</th>\n",
       "      <th>sentiment_year</th>\n",
       "      <th>Date_x</th>\n",
       "      <th>PE_ratio</th>\n",
       "      <th>Change</th>\n",
       "      <th>change_five</th>\n",
       "      <th>change_month</th>\n",
       "      <th>change_year</th>\n",
       "      <th>Response</th>\n",
       "      <th>Res_cat</th>\n",
       "    </tr>\n",
       "  </thead>\n",
       "  <tbody>\n",
       "    <tr>\n",
       "      <th>0</th>\n",
       "      <td>-0.242536</td>\n",
       "      <td>2008-06-09</td>\n",
       "      <td>-0.212552</td>\n",
       "      <td>-0.212691</td>\n",
       "      <td>-0.214041</td>\n",
       "      <td>2008-06-09</td>\n",
       "      <td>26.11</td>\n",
       "      <td>0.005775</td>\n",
       "      <td>0.000262</td>\n",
       "      <td>0.000283</td>\n",
       "      <td>4.172278e-04</td>\n",
       "      <td>0.000769</td>\n",
       "      <td>1</td>\n",
       "    </tr>\n",
       "    <tr>\n",
       "      <th>1</th>\n",
       "      <td>-0.304740</td>\n",
       "      <td>2008-06-10</td>\n",
       "      <td>-0.212552</td>\n",
       "      <td>-0.212691</td>\n",
       "      <td>-0.214041</td>\n",
       "      <td>2008-06-10</td>\n",
       "      <td>26.11</td>\n",
       "      <td>0.000769</td>\n",
       "      <td>0.000262</td>\n",
       "      <td>0.000283</td>\n",
       "      <td>4.172278e-04</td>\n",
       "      <td>-0.016761</td>\n",
       "      <td>0</td>\n",
       "    </tr>\n",
       "    <tr>\n",
       "      <th>2</th>\n",
       "      <td>-0.143736</td>\n",
       "      <td>2008-06-11</td>\n",
       "      <td>-0.212552</td>\n",
       "      <td>-0.212691</td>\n",
       "      <td>-0.214041</td>\n",
       "      <td>2008-06-11</td>\n",
       "      <td>26.11</td>\n",
       "      <td>-0.016761</td>\n",
       "      <td>0.000262</td>\n",
       "      <td>0.000283</td>\n",
       "      <td>4.172278e-04</td>\n",
       "      <td>0.004784</td>\n",
       "      <td>1</td>\n",
       "    </tr>\n",
       "    <tr>\n",
       "      <th>3</th>\n",
       "      <td>-0.128564</td>\n",
       "      <td>2008-06-12</td>\n",
       "      <td>-0.212552</td>\n",
       "      <td>-0.212691</td>\n",
       "      <td>-0.214041</td>\n",
       "      <td>2008-06-12</td>\n",
       "      <td>26.11</td>\n",
       "      <td>0.004784</td>\n",
       "      <td>0.000262</td>\n",
       "      <td>0.000283</td>\n",
       "      <td>4.172278e-04</td>\n",
       "      <td>0.013653</td>\n",
       "      <td>1</td>\n",
       "    </tr>\n",
       "    <tr>\n",
       "      <th>4</th>\n",
       "      <td>-0.252312</td>\n",
       "      <td>2008-06-13</td>\n",
       "      <td>-0.212552</td>\n",
       "      <td>-0.212691</td>\n",
       "      <td>-0.214041</td>\n",
       "      <td>2008-06-13</td>\n",
       "      <td>26.11</td>\n",
       "      <td>0.013653</td>\n",
       "      <td>0.001644</td>\n",
       "      <td>0.000283</td>\n",
       "      <td>4.172278e-04</td>\n",
       "      <td>-0.003109</td>\n",
       "      <td>0</td>\n",
       "    </tr>\n",
       "    <tr>\n",
       "      <th>5</th>\n",
       "      <td>-0.230048</td>\n",
       "      <td>2008-06-16</td>\n",
       "      <td>-0.206019</td>\n",
       "      <td>-0.212691</td>\n",
       "      <td>-0.214041</td>\n",
       "      <td>2008-06-16</td>\n",
       "      <td>26.11</td>\n",
       "      <td>-0.003109</td>\n",
       "      <td>-0.000133</td>\n",
       "      <td>0.000283</td>\n",
       "      <td>4.172278e-04</td>\n",
       "      <td>-0.008866</td>\n",
       "      <td>0</td>\n",
       "    </tr>\n",
       "    <tr>\n",
       "      <th>6</th>\n",
       "      <td>-0.208244</td>\n",
       "      <td>2008-06-17</td>\n",
       "      <td>-0.201733</td>\n",
       "      <td>-0.212691</td>\n",
       "      <td>-0.214041</td>\n",
       "      <td>2008-06-17</td>\n",
       "      <td>26.11</td>\n",
       "      <td>-0.008866</td>\n",
       "      <td>-0.002060</td>\n",
       "      <td>0.000283</td>\n",
       "      <td>4.172278e-04</td>\n",
       "      <td>-0.010793</td>\n",
       "      <td>0</td>\n",
       "    </tr>\n",
       "    <tr>\n",
       "      <th>7</th>\n",
       "      <td>-0.249704</td>\n",
       "      <td>2008-06-18</td>\n",
       "      <td>-0.194854</td>\n",
       "      <td>-0.212691</td>\n",
       "      <td>-0.214041</td>\n",
       "      <td>2008-06-18</td>\n",
       "      <td>26.11</td>\n",
       "      <td>-0.010793</td>\n",
       "      <td>-0.000866</td>\n",
       "      <td>0.000283</td>\n",
       "      <td>4.172278e-04</td>\n",
       "      <td>0.002829</td>\n",
       "      <td>1</td>\n",
       "    </tr>\n",
       "    <tr>\n",
       "      <th>8</th>\n",
       "      <td>-0.095984</td>\n",
       "      <td>2008-06-19</td>\n",
       "      <td>-0.188885</td>\n",
       "      <td>-0.212691</td>\n",
       "      <td>-0.214041</td>\n",
       "      <td>2008-06-19</td>\n",
       "      <td>26.11</td>\n",
       "      <td>0.002829</td>\n",
       "      <td>-0.001257</td>\n",
       "      <td>0.000283</td>\n",
       "      <td>4.172278e-04</td>\n",
       "      <td>-0.018271</td>\n",
       "      <td>0</td>\n",
       "    </tr>\n",
       "    <tr>\n",
       "      <th>9</th>\n",
       "      <td>-0.419844</td>\n",
       "      <td>2008-06-20</td>\n",
       "      <td>-0.225295</td>\n",
       "      <td>-0.212691</td>\n",
       "      <td>-0.214041</td>\n",
       "      <td>2008-06-20</td>\n",
       "      <td>26.11</td>\n",
       "      <td>-0.018271</td>\n",
       "      <td>-0.007642</td>\n",
       "      <td>0.000283</td>\n",
       "      <td>4.172278e-04</td>\n",
       "      <td>-0.000028</td>\n",
       "      <td>0</td>\n",
       "    </tr>\n",
       "    <tr>\n",
       "      <th>10</th>\n",
       "      <td>-0.193092</td>\n",
       "      <td>2008-06-23</td>\n",
       "      <td>-0.227085</td>\n",
       "      <td>-0.212691</td>\n",
       "      <td>-0.214041</td>\n",
       "      <td>2008-06-23</td>\n",
       "      <td>26.11</td>\n",
       "      <td>-0.000028</td>\n",
       "      <td>-0.007026</td>\n",
       "      <td>0.000283</td>\n",
       "      <td>4.172278e-04</td>\n",
       "      <td>-0.002950</td>\n",
       "      <td>0</td>\n",
       "    </tr>\n",
       "    <tr>\n",
       "      <th>11</th>\n",
       "      <td>-0.146004</td>\n",
       "      <td>2008-06-24</td>\n",
       "      <td>-0.216580</td>\n",
       "      <td>-0.212691</td>\n",
       "      <td>-0.214041</td>\n",
       "      <td>2008-06-24</td>\n",
       "      <td>26.11</td>\n",
       "      <td>-0.002950</td>\n",
       "      <td>-0.005842</td>\n",
       "      <td>0.000283</td>\n",
       "      <td>4.172278e-04</td>\n",
       "      <td>0.000373</td>\n",
       "      <td>1</td>\n",
       "    </tr>\n",
       "    <tr>\n",
       "      <th>12</th>\n",
       "      <td>-0.203948</td>\n",
       "      <td>2008-06-25</td>\n",
       "      <td>-0.216043</td>\n",
       "      <td>-0.212691</td>\n",
       "      <td>-0.214041</td>\n",
       "      <td>2008-06-25</td>\n",
       "      <td>26.11</td>\n",
       "      <td>0.000373</td>\n",
       "      <td>-0.003609</td>\n",
       "      <td>0.000283</td>\n",
       "      <td>4.172278e-04</td>\n",
       "      <td>-0.030343</td>\n",
       "      <td>0</td>\n",
       "    </tr>\n",
       "    <tr>\n",
       "      <th>13</th>\n",
       "      <td>-0.315736</td>\n",
       "      <td>2008-06-26</td>\n",
       "      <td>-0.224297</td>\n",
       "      <td>-0.212691</td>\n",
       "      <td>-0.214041</td>\n",
       "      <td>2008-06-26</td>\n",
       "      <td>26.11</td>\n",
       "      <td>-0.030343</td>\n",
       "      <td>-0.010244</td>\n",
       "      <td>0.000283</td>\n",
       "      <td>4.172278e-04</td>\n",
       "      <td>-0.009334</td>\n",
       "      <td>0</td>\n",
       "    </tr>\n",
       "    <tr>\n",
       "      <th>14</th>\n",
       "      <td>-0.183500</td>\n",
       "      <td>2008-06-27</td>\n",
       "      <td>-0.235236</td>\n",
       "      <td>-0.212691</td>\n",
       "      <td>-0.214041</td>\n",
       "      <td>2008-06-27</td>\n",
       "      <td>26.11</td>\n",
       "      <td>-0.009334</td>\n",
       "      <td>-0.008456</td>\n",
       "      <td>0.000283</td>\n",
       "      <td>4.172278e-04</td>\n",
       "      <td>0.000308</td>\n",
       "      <td>1</td>\n",
       "    </tr>\n",
       "    <tr>\n",
       "      <th>15</th>\n",
       "      <td>-0.075520</td>\n",
       "      <td>2008-06-30</td>\n",
       "      <td>-0.214915</td>\n",
       "      <td>-0.212691</td>\n",
       "      <td>-0.214041</td>\n",
       "      <td>2008-06-30</td>\n",
       "      <td>26.11</td>\n",
       "      <td>0.000308</td>\n",
       "      <td>-0.008389</td>\n",
       "      <td>0.000283</td>\n",
       "      <td>4.172278e-04</td>\n",
       "      <td>0.002841</td>\n",
       "      <td>1</td>\n",
       "    </tr>\n",
       "    <tr>\n",
       "      <th>16</th>\n",
       "      <td>-0.021204</td>\n",
       "      <td>2008-07-01</td>\n",
       "      <td>-0.193429</td>\n",
       "      <td>-0.212691</td>\n",
       "      <td>-0.214041</td>\n",
       "      <td>2008-07-01</td>\n",
       "      <td>25.37</td>\n",
       "      <td>0.002841</td>\n",
       "      <td>-0.007231</td>\n",
       "      <td>0.000283</td>\n",
       "      <td>4.172278e-04</td>\n",
       "      <td>-0.014650</td>\n",
       "      <td>0</td>\n",
       "    </tr>\n",
       "    <tr>\n",
       "      <th>17</th>\n",
       "      <td>-0.183992</td>\n",
       "      <td>2008-07-02</td>\n",
       "      <td>-0.198178</td>\n",
       "      <td>-0.212691</td>\n",
       "      <td>-0.214041</td>\n",
       "      <td>2008-07-02</td>\n",
       "      <td>25.37</td>\n",
       "      <td>-0.014650</td>\n",
       "      <td>-0.010236</td>\n",
       "      <td>0.000283</td>\n",
       "      <td>4.172278e-04</td>\n",
       "      <td>0.006512</td>\n",
       "      <td>1</td>\n",
       "    </tr>\n",
       "    <tr>\n",
       "      <th>18</th>\n",
       "      <td>-0.250220</td>\n",
       "      <td>2008-07-03</td>\n",
       "      <td>-0.203962</td>\n",
       "      <td>-0.212691</td>\n",
       "      <td>-0.214041</td>\n",
       "      <td>2008-07-03</td>\n",
       "      <td>25.37</td>\n",
       "      <td>0.006512</td>\n",
       "      <td>-0.002865</td>\n",
       "      <td>0.000283</td>\n",
       "      <td>4.172278e-04</td>\n",
       "      <td>-0.005012</td>\n",
       "      <td>0</td>\n",
       "    </tr>\n",
       "    <tr>\n",
       "      <th>19</th>\n",
       "      <td>-0.261052</td>\n",
       "      <td>2008-07-07</td>\n",
       "      <td>-0.185056</td>\n",
       "      <td>-0.212691</td>\n",
       "      <td>-0.214041</td>\n",
       "      <td>2008-07-07</td>\n",
       "      <td>25.37</td>\n",
       "      <td>-0.005012</td>\n",
       "      <td>-0.002000</td>\n",
       "      <td>0.000283</td>\n",
       "      <td>4.172278e-04</td>\n",
       "      <td>0.013555</td>\n",
       "      <td>1</td>\n",
       "    </tr>\n",
       "    <tr>\n",
       "      <th>20</th>\n",
       "      <td>-0.130532</td>\n",
       "      <td>2008-07-08</td>\n",
       "      <td>-0.191933</td>\n",
       "      <td>-0.214803</td>\n",
       "      <td>-0.214041</td>\n",
       "      <td>2008-07-08</td>\n",
       "      <td>25.37</td>\n",
       "      <td>0.013555</td>\n",
       "      <td>0.000649</td>\n",
       "      <td>-0.003272</td>\n",
       "      <td>4.172278e-04</td>\n",
       "      <td>-0.020798</td>\n",
       "      <td>0</td>\n",
       "    </tr>\n",
       "    <tr>\n",
       "      <th>21</th>\n",
       "      <td>-0.284932</td>\n",
       "      <td>2008-07-09</td>\n",
       "      <td>-0.224899</td>\n",
       "      <td>-0.212304</td>\n",
       "      <td>-0.214041</td>\n",
       "      <td>2008-07-09</td>\n",
       "      <td>25.37</td>\n",
       "      <td>-0.020798</td>\n",
       "      <td>-0.004079</td>\n",
       "      <td>-0.004538</td>\n",
       "      <td>4.172278e-04</td>\n",
       "      <td>0.007318</td>\n",
       "      <td>1</td>\n",
       "    </tr>\n",
       "    <tr>\n",
       "      <th>22</th>\n",
       "      <td>-0.242840</td>\n",
       "      <td>2008-07-10</td>\n",
       "      <td>-0.232255</td>\n",
       "      <td>-0.212313</td>\n",
       "      <td>-0.214041</td>\n",
       "      <td>2008-07-10</td>\n",
       "      <td>25.37</td>\n",
       "      <td>0.007318</td>\n",
       "      <td>0.000315</td>\n",
       "      <td>-0.004226</td>\n",
       "      <td>4.172278e-04</td>\n",
       "      <td>-0.011442</td>\n",
       "      <td>0</td>\n",
       "    </tr>\n",
       "    <tr>\n",
       "      <th>23</th>\n",
       "      <td>0.014468</td>\n",
       "      <td>2008-07-11</td>\n",
       "      <td>-0.199168</td>\n",
       "      <td>-0.202016</td>\n",
       "      <td>-0.214041</td>\n",
       "      <td>2008-07-11</td>\n",
       "      <td>25.37</td>\n",
       "      <td>-0.011442</td>\n",
       "      <td>-0.003276</td>\n",
       "      <td>-0.003972</td>\n",
       "      <td>4.172278e-04</td>\n",
       "      <td>-0.004085</td>\n",
       "      <td>0</td>\n",
       "    </tr>\n",
       "    <tr>\n",
       "      <th>24</th>\n",
       "      <td>-0.147404</td>\n",
       "      <td>2008-07-14</td>\n",
       "      <td>-0.186988</td>\n",
       "      <td>-0.204158</td>\n",
       "      <td>-0.214041</td>\n",
       "      <td>2008-07-14</td>\n",
       "      <td>25.37</td>\n",
       "      <td>-0.004085</td>\n",
       "      <td>-0.003090</td>\n",
       "      <td>-0.004395</td>\n",
       "      <td>4.172278e-04</td>\n",
       "      <td>-0.008381</td>\n",
       "      <td>0</td>\n",
       "    </tr>\n",
       "    <tr>\n",
       "      <th>25</th>\n",
       "      <td>-0.153760</td>\n",
       "      <td>2008-07-15</td>\n",
       "      <td>-0.173577</td>\n",
       "      <td>-0.203306</td>\n",
       "      <td>-0.214041</td>\n",
       "      <td>2008-07-15</td>\n",
       "      <td>25.37</td>\n",
       "      <td>-0.008381</td>\n",
       "      <td>-0.007478</td>\n",
       "      <td>-0.005444</td>\n",
       "      <td>4.172278e-04</td>\n",
       "      <td>0.025244</td>\n",
       "      <td>1</td>\n",
       "    </tr>\n",
       "    <tr>\n",
       "      <th>26</th>\n",
       "      <td>-0.218728</td>\n",
       "      <td>2008-07-16</td>\n",
       "      <td>-0.184601</td>\n",
       "      <td>-0.205006</td>\n",
       "      <td>-0.214041</td>\n",
       "      <td>2008-07-16</td>\n",
       "      <td>25.37</td>\n",
       "      <td>0.025244</td>\n",
       "      <td>0.001731</td>\n",
       "      <td>-0.004094</td>\n",
       "      <td>4.172278e-04</td>\n",
       "      <td>0.018451</td>\n",
       "      <td>1</td>\n",
       "    </tr>\n",
       "    <tr>\n",
       "      <th>27</th>\n",
       "      <td>-0.061580</td>\n",
       "      <td>2008-07-17</td>\n",
       "      <td>-0.156682</td>\n",
       "      <td>-0.199571</td>\n",
       "      <td>-0.214041</td>\n",
       "      <td>2008-07-17</td>\n",
       "      <td>25.37</td>\n",
       "      <td>0.018451</td>\n",
       "      <td>0.003958</td>\n",
       "      <td>-0.002793</td>\n",
       "      <td>4.172278e-04</td>\n",
       "      <td>0.004360</td>\n",
       "      <td>1</td>\n",
       "    </tr>\n",
       "    <tr>\n",
       "      <th>28</th>\n",
       "      <td>-0.143932</td>\n",
       "      <td>2008-07-18</td>\n",
       "      <td>-0.144319</td>\n",
       "      <td>-0.197497</td>\n",
       "      <td>-0.214041</td>\n",
       "      <td>2008-07-18</td>\n",
       "      <td>25.37</td>\n",
       "      <td>0.004360</td>\n",
       "      <td>0.007118</td>\n",
       "      <td>-0.002072</td>\n",
       "      <td>4.172278e-04</td>\n",
       "      <td>-0.002543</td>\n",
       "      <td>0</td>\n",
       "    </tr>\n",
       "    <tr>\n",
       "      <th>29</th>\n",
       "      <td>-0.308484</td>\n",
       "      <td>2008-07-21</td>\n",
       "      <td>-0.179111</td>\n",
       "      <td>-0.195624</td>\n",
       "      <td>-0.214041</td>\n",
       "      <td>2008-07-21</td>\n",
       "      <td>25.37</td>\n",
       "      <td>-0.002543</td>\n",
       "      <td>0.007427</td>\n",
       "      <td>-0.002327</td>\n",
       "      <td>4.172278e-04</td>\n",
       "      <td>0.011787</td>\n",
       "      <td>1</td>\n",
       "    </tr>\n",
       "    <tr>\n",
       "      <th>...</th>\n",
       "      <td>...</td>\n",
       "      <td>...</td>\n",
       "      <td>...</td>\n",
       "      <td>...</td>\n",
       "      <td>...</td>\n",
       "      <td>...</td>\n",
       "      <td>...</td>\n",
       "      <td>...</td>\n",
       "      <td>...</td>\n",
       "      <td>...</td>\n",
       "      <td>...</td>\n",
       "      <td>...</td>\n",
       "      <td>...</td>\n",
       "    </tr>\n",
       "    <tr>\n",
       "      <th>2002</th>\n",
       "      <td>-0.177904</td>\n",
       "      <td>2016-05-20</td>\n",
       "      <td>-0.158309</td>\n",
       "      <td>-0.176571</td>\n",
       "      <td>-0.195038</td>\n",
       "      <td>2016-05-20</td>\n",
       "      <td>23.81</td>\n",
       "      <td>0.003759</td>\n",
       "      <td>-0.000368</td>\n",
       "      <td>-0.001269</td>\n",
       "      <td>-1.108506e-04</td>\n",
       "      <td>-0.000458</td>\n",
       "      <td>0</td>\n",
       "    </tr>\n",
       "    <tr>\n",
       "      <th>2003</th>\n",
       "      <td>-0.319948</td>\n",
       "      <td>2016-05-23</td>\n",
       "      <td>-0.247172</td>\n",
       "      <td>-0.200581</td>\n",
       "      <td>-0.197131</td>\n",
       "      <td>2016-05-23</td>\n",
       "      <td>23.81</td>\n",
       "      <td>-0.000458</td>\n",
       "      <td>-0.002460</td>\n",
       "      <td>-0.001347</td>\n",
       "      <td>-7.105021e-05</td>\n",
       "      <td>0.012183</td>\n",
       "      <td>1</td>\n",
       "    </tr>\n",
       "    <tr>\n",
       "      <th>2004</th>\n",
       "      <td>-0.149340</td>\n",
       "      <td>2016-05-24</td>\n",
       "      <td>-0.240810</td>\n",
       "      <td>-0.197763</td>\n",
       "      <td>-0.196779</td>\n",
       "      <td>2016-05-24</td>\n",
       "      <td>23.81</td>\n",
       "      <td>0.012183</td>\n",
       "      <td>0.002018</td>\n",
       "      <td>-0.000697</td>\n",
       "      <td>-4.933102e-05</td>\n",
       "      <td>0.008215</td>\n",
       "      <td>1</td>\n",
       "    </tr>\n",
       "    <tr>\n",
       "      <th>2005</th>\n",
       "      <td>-0.347872</td>\n",
       "      <td>2016-05-25</td>\n",
       "      <td>-0.264589</td>\n",
       "      <td>-0.202635</td>\n",
       "      <td>-0.197213</td>\n",
       "      <td>2016-05-25</td>\n",
       "      <td>23.81</td>\n",
       "      <td>0.008215</td>\n",
       "      <td>0.003699</td>\n",
       "      <td>-0.000340</td>\n",
       "      <td>-8.513384e-06</td>\n",
       "      <td>-0.001301</td>\n",
       "      <td>0</td>\n",
       "    </tr>\n",
       "    <tr>\n",
       "      <th>2006</th>\n",
       "      <td>-0.237692</td>\n",
       "      <td>2016-05-26</td>\n",
       "      <td>-0.274973</td>\n",
       "      <td>-0.201949</td>\n",
       "      <td>-0.197461</td>\n",
       "      <td>2016-05-26</td>\n",
       "      <td>23.81</td>\n",
       "      <td>-0.001301</td>\n",
       "      <td>0.004480</td>\n",
       "      <td>-0.000538</td>\n",
       "      <td>1.167749e-05</td>\n",
       "      <td>0.002520</td>\n",
       "      <td>1</td>\n",
       "    </tr>\n",
       "    <tr>\n",
       "      <th>2007</th>\n",
       "      <td>-0.249088</td>\n",
       "      <td>2016-05-27</td>\n",
       "      <td>-0.278318</td>\n",
       "      <td>-0.202752</td>\n",
       "      <td>-0.197460</td>\n",
       "      <td>2016-05-27</td>\n",
       "      <td>23.81</td>\n",
       "      <td>0.002520</td>\n",
       "      <td>0.004232</td>\n",
       "      <td>0.000138</td>\n",
       "      <td>1.515083e-05</td>\n",
       "      <td>-0.004813</td>\n",
       "      <td>0</td>\n",
       "    </tr>\n",
       "    <tr>\n",
       "      <th>2008</th>\n",
       "      <td>-0.183956</td>\n",
       "      <td>2016-05-31</td>\n",
       "      <td>-0.200678</td>\n",
       "      <td>-0.198291</td>\n",
       "      <td>-0.197280</td>\n",
       "      <td>2016-05-31</td>\n",
       "      <td>23.81</td>\n",
       "      <td>-0.004813</td>\n",
       "      <td>0.003361</td>\n",
       "      <td>0.000062</td>\n",
       "      <td>2.254511e-06</td>\n",
       "      <td>0.000139</td>\n",
       "      <td>1</td>\n",
       "    </tr>\n",
       "    <tr>\n",
       "      <th>2009</th>\n",
       "      <td>-0.337916</td>\n",
       "      <td>2016-06-01</td>\n",
       "      <td>-0.224250</td>\n",
       "      <td>-0.208639</td>\n",
       "      <td>-0.197186</td>\n",
       "      <td>2016-06-01</td>\n",
       "      <td>23.97</td>\n",
       "      <td>0.000139</td>\n",
       "      <td>0.000952</td>\n",
       "      <td>-0.000247</td>\n",
       "      <td>-1.142127e-05</td>\n",
       "      <td>0.002748</td>\n",
       "      <td>1</td>\n",
       "    </tr>\n",
       "    <tr>\n",
       "      <th>2010</th>\n",
       "      <td>-0.274064</td>\n",
       "      <td>2016-06-02</td>\n",
       "      <td>-0.215024</td>\n",
       "      <td>-0.207091</td>\n",
       "      <td>-0.197012</td>\n",
       "      <td>2016-06-02</td>\n",
       "      <td>23.97</td>\n",
       "      <td>0.002748</td>\n",
       "      <td>-0.000141</td>\n",
       "      <td>0.000258</td>\n",
       "      <td>3.714844e-05</td>\n",
       "      <td>-0.001766</td>\n",
       "      <td>0</td>\n",
       "    </tr>\n",
       "    <tr>\n",
       "      <th>2011</th>\n",
       "      <td>-0.130016</td>\n",
       "      <td>2016-06-03</td>\n",
       "      <td>-0.201565</td>\n",
       "      <td>-0.209505</td>\n",
       "      <td>-0.197075</td>\n",
       "      <td>2016-06-03</td>\n",
       "      <td>23.97</td>\n",
       "      <td>-0.001766</td>\n",
       "      <td>-0.000234</td>\n",
       "      <td>0.000441</td>\n",
       "      <td>4.259996e-05</td>\n",
       "      <td>0.006361</td>\n",
       "      <td>1</td>\n",
       "    </tr>\n",
       "    <tr>\n",
       "      <th>2012</th>\n",
       "      <td>-0.257180</td>\n",
       "      <td>2016-06-06</td>\n",
       "      <td>-0.203940</td>\n",
       "      <td>-0.205082</td>\n",
       "      <td>-0.198045</td>\n",
       "      <td>2016-06-06</td>\n",
       "      <td>23.97</td>\n",
       "      <td>0.006361</td>\n",
       "      <td>0.000534</td>\n",
       "      <td>0.000718</td>\n",
       "      <td>8.644817e-05</td>\n",
       "      <td>0.001002</td>\n",
       "      <td>1</td>\n",
       "    </tr>\n",
       "    <tr>\n",
       "      <th>2013</th>\n",
       "      <td>-0.120532</td>\n",
       "      <td>2016-06-07</td>\n",
       "      <td>-0.206251</td>\n",
       "      <td>-0.201794</td>\n",
       "      <td>-0.197655</td>\n",
       "      <td>2016-06-07</td>\n",
       "      <td>23.97</td>\n",
       "      <td>0.001002</td>\n",
       "      <td>0.001697</td>\n",
       "      <td>0.000550</td>\n",
       "      <td>9.100190e-05</td>\n",
       "      <td>0.003722</td>\n",
       "      <td>1</td>\n",
       "    </tr>\n",
       "    <tr>\n",
       "      <th>2014</th>\n",
       "      <td>-0.091440</td>\n",
       "      <td>2016-06-08</td>\n",
       "      <td>-0.194686</td>\n",
       "      <td>-0.201785</td>\n",
       "      <td>-0.197580</td>\n",
       "      <td>2016-06-08</td>\n",
       "      <td>23.97</td>\n",
       "      <td>0.003722</td>\n",
       "      <td>0.002413</td>\n",
       "      <td>0.000821</td>\n",
       "      <td>5.282135e-05</td>\n",
       "      <td>-0.001103</td>\n",
       "      <td>0</td>\n",
       "    </tr>\n",
       "    <tr>\n",
       "      <th>2015</th>\n",
       "      <td>-0.088084</td>\n",
       "      <td>2016-06-09</td>\n",
       "      <td>-0.163457</td>\n",
       "      <td>-0.200846</td>\n",
       "      <td>-0.197769</td>\n",
       "      <td>2016-06-09</td>\n",
       "      <td>23.97</td>\n",
       "      <td>-0.001103</td>\n",
       "      <td>0.001643</td>\n",
       "      <td>0.000170</td>\n",
       "      <td>3.980151e-05</td>\n",
       "      <td>-0.006664</td>\n",
       "      <td>0</td>\n",
       "    </tr>\n",
       "    <tr>\n",
       "      <th>2016</th>\n",
       "      <td>-0.131348</td>\n",
       "      <td>2016-06-10</td>\n",
       "      <td>-0.145618</td>\n",
       "      <td>-0.194942</td>\n",
       "      <td>-0.197782</td>\n",
       "      <td>2016-06-10</td>\n",
       "      <td>23.97</td>\n",
       "      <td>-0.006664</td>\n",
       "      <td>0.000664</td>\n",
       "      <td>0.000430</td>\n",
       "      <td>4.428896e-05</td>\n",
       "      <td>-0.007437</td>\n",
       "      <td>0</td>\n",
       "    </tr>\n",
       "    <tr>\n",
       "      <th>2017</th>\n",
       "      <td>-0.155468</td>\n",
       "      <td>2016-06-13</td>\n",
       "      <td>-0.158441</td>\n",
       "      <td>-0.200774</td>\n",
       "      <td>-0.198422</td>\n",
       "      <td>2016-06-13</td>\n",
       "      <td>23.97</td>\n",
       "      <td>-0.007437</td>\n",
       "      <td>-0.002096</td>\n",
       "      <td>0.000050</td>\n",
       "      <td>3.862664e-05</td>\n",
       "      <td>-0.003252</td>\n",
       "      <td>0</td>\n",
       "    </tr>\n",
       "    <tr>\n",
       "      <th>2018</th>\n",
       "      <td>-0.152276</td>\n",
       "      <td>2016-06-14</td>\n",
       "      <td>-0.145327</td>\n",
       "      <td>-0.202441</td>\n",
       "      <td>-0.198611</td>\n",
       "      <td>2016-06-14</td>\n",
       "      <td>23.97</td>\n",
       "      <td>-0.003252</td>\n",
       "      <td>-0.002947</td>\n",
       "      <td>0.000393</td>\n",
       "      <td>2.976019e-07</td>\n",
       "      <td>-0.001960</td>\n",
       "      <td>0</td>\n",
       "    </tr>\n",
       "    <tr>\n",
       "      <th>2019</th>\n",
       "      <td>-0.303500</td>\n",
       "      <td>2016-06-15</td>\n",
       "      <td>-0.168199</td>\n",
       "      <td>-0.206272</td>\n",
       "      <td>-0.198898</td>\n",
       "      <td>2016-06-15</td>\n",
       "      <td>23.97</td>\n",
       "      <td>-0.001960</td>\n",
       "      <td>-0.004083</td>\n",
       "      <td>-0.000176</td>\n",
       "      <td>-1.446876e-05</td>\n",
       "      <td>0.005268</td>\n",
       "      <td>1</td>\n",
       "    </tr>\n",
       "    <tr>\n",
       "      <th>2020</th>\n",
       "      <td>-0.270616</td>\n",
       "      <td>2016-06-16</td>\n",
       "      <td>-0.190596</td>\n",
       "      <td>-0.208542</td>\n",
       "      <td>-0.199295</td>\n",
       "      <td>2016-06-16</td>\n",
       "      <td>23.97</td>\n",
       "      <td>0.005268</td>\n",
       "      <td>-0.002809</td>\n",
       "      <td>0.000560</td>\n",
       "      <td>-3.348593e-05</td>\n",
       "      <td>-0.003267</td>\n",
       "      <td>0</td>\n",
       "    </tr>\n",
       "    <tr>\n",
       "      <th>2021</th>\n",
       "      <td>-0.295452</td>\n",
       "      <td>2016-06-17</td>\n",
       "      <td>-0.216517</td>\n",
       "      <td>-0.212988</td>\n",
       "      <td>-0.199673</td>\n",
       "      <td>2016-06-17</td>\n",
       "      <td>23.97</td>\n",
       "      <td>-0.003267</td>\n",
       "      <td>-0.002130</td>\n",
       "      <td>0.000414</td>\n",
       "      <td>-2.453498e-05</td>\n",
       "      <td>0.007338</td>\n",
       "      <td>1</td>\n",
       "    </tr>\n",
       "    <tr>\n",
       "      <th>2022</th>\n",
       "      <td>-0.350348</td>\n",
       "      <td>2016-06-20</td>\n",
       "      <td>-0.232593</td>\n",
       "      <td>-0.217136</td>\n",
       "      <td>-0.200071</td>\n",
       "      <td>2016-06-20</td>\n",
       "      <td>23.97</td>\n",
       "      <td>0.007338</td>\n",
       "      <td>0.000825</td>\n",
       "      <td>0.001011</td>\n",
       "      <td>-1.825905e-05</td>\n",
       "      <td>0.001396</td>\n",
       "      <td>1</td>\n",
       "    </tr>\n",
       "    <tr>\n",
       "      <th>2023</th>\n",
       "      <td>-0.343768</td>\n",
       "      <td>2016-06-21</td>\n",
       "      <td>-0.256130</td>\n",
       "      <td>-0.216729</td>\n",
       "      <td>-0.200642</td>\n",
       "      <td>2016-06-21</td>\n",
       "      <td>23.97</td>\n",
       "      <td>0.001396</td>\n",
       "      <td>0.001755</td>\n",
       "      <td>0.000899</td>\n",
       "      <td>-1.803697e-05</td>\n",
       "      <td>-0.002743</td>\n",
       "      <td>0</td>\n",
       "    </tr>\n",
       "    <tr>\n",
       "      <th>2024</th>\n",
       "      <td>-0.095448</td>\n",
       "      <td>2016-06-22</td>\n",
       "      <td>-0.249027</td>\n",
       "      <td>-0.207281</td>\n",
       "      <td>-0.200323</td>\n",
       "      <td>2016-06-22</td>\n",
       "      <td>23.97</td>\n",
       "      <td>-0.002743</td>\n",
       "      <td>0.001599</td>\n",
       "      <td>0.000790</td>\n",
       "      <td>1.012134e-05</td>\n",
       "      <td>0.012949</td>\n",
       "      <td>1</td>\n",
       "    </tr>\n",
       "    <tr>\n",
       "      <th>2025</th>\n",
       "      <td>-0.158004</td>\n",
       "      <td>2016-06-23</td>\n",
       "      <td>-0.230840</td>\n",
       "      <td>-0.202057</td>\n",
       "      <td>-0.200451</td>\n",
       "      <td>2016-06-23</td>\n",
       "      <td>23.97</td>\n",
       "      <td>0.012949</td>\n",
       "      <td>0.003135</td>\n",
       "      <td>0.000826</td>\n",
       "      <td>7.849941e-05</td>\n",
       "      <td>-0.033886</td>\n",
       "      <td>0</td>\n",
       "    </tr>\n",
       "    <tr>\n",
       "      <th>2026</th>\n",
       "      <td>-0.046832</td>\n",
       "      <td>2016-06-24</td>\n",
       "      <td>-0.202867</td>\n",
       "      <td>-0.198751</td>\n",
       "      <td>-0.200185</td>\n",
       "      <td>2016-06-24</td>\n",
       "      <td>23.97</td>\n",
       "      <td>-0.033886</td>\n",
       "      <td>-0.002989</td>\n",
       "      <td>-0.001178</td>\n",
       "      <td>-6.904610e-05</td>\n",
       "      <td>-0.014971</td>\n",
       "      <td>0</td>\n",
       "    </tr>\n",
       "    <tr>\n",
       "      <th>2027</th>\n",
       "      <td>-0.142656</td>\n",
       "      <td>2016-06-27</td>\n",
       "      <td>-0.159179</td>\n",
       "      <td>-0.180827</td>\n",
       "      <td>-0.199778</td>\n",
       "      <td>2016-06-27</td>\n",
       "      <td>23.97</td>\n",
       "      <td>-0.014971</td>\n",
       "      <td>-0.007451</td>\n",
       "      <td>-0.001829</td>\n",
       "      <td>-5.092090e-05</td>\n",
       "      <td>0.015722</td>\n",
       "      <td>1</td>\n",
       "    </tr>\n",
       "    <tr>\n",
       "      <th>2028</th>\n",
       "      <td>-0.069436</td>\n",
       "      <td>2016-06-28</td>\n",
       "      <td>-0.124064</td>\n",
       "      <td>-0.176226</td>\n",
       "      <td>-0.199254</td>\n",
       "      <td>2016-06-28</td>\n",
       "      <td>23.97</td>\n",
       "      <td>0.015722</td>\n",
       "      <td>-0.004586</td>\n",
       "      <td>-0.001201</td>\n",
       "      <td>6.473137e-06</td>\n",
       "      <td>0.016368</td>\n",
       "      <td>1</td>\n",
       "    </tr>\n",
       "    <tr>\n",
       "      <th>2029</th>\n",
       "      <td>-0.205284</td>\n",
       "      <td>2016-06-29</td>\n",
       "      <td>-0.106754</td>\n",
       "      <td>-0.178869</td>\n",
       "      <td>-0.199156</td>\n",
       "      <td>2016-06-29</td>\n",
       "      <td>23.97</td>\n",
       "      <td>0.016368</td>\n",
       "      <td>-0.000764</td>\n",
       "      <td>-0.000192</td>\n",
       "      <td>4.038891e-05</td>\n",
       "      <td>0.013298</td>\n",
       "      <td>1</td>\n",
       "    </tr>\n",
       "    <tr>\n",
       "      <th>2030</th>\n",
       "      <td>-0.280596</td>\n",
       "      <td>2016-06-30</td>\n",
       "      <td>-0.129897</td>\n",
       "      <td>-0.184629</td>\n",
       "      <td>-0.199599</td>\n",
       "      <td>2016-06-30</td>\n",
       "      <td>23.97</td>\n",
       "      <td>0.013298</td>\n",
       "      <td>-0.000694</td>\n",
       "      <td>0.000435</td>\n",
       "      <td>9.960772e-05</td>\n",
       "      <td>0.001081</td>\n",
       "      <td>1</td>\n",
       "    </tr>\n",
       "    <tr>\n",
       "      <th>2031</th>\n",
       "      <td>-0.338272</td>\n",
       "      <td>2016-07-01</td>\n",
       "      <td>-0.152431</td>\n",
       "      <td>-0.189606</td>\n",
       "      <td>-0.200138</td>\n",
       "      <td>2016-07-01</td>\n",
       "      <td>24.52</td>\n",
       "      <td>0.001081</td>\n",
       "      <td>0.006300</td>\n",
       "      <td>0.000355</td>\n",
       "      <td>1.143691e-04</td>\n",
       "      <td>0.000267</td>\n",
       "      <td>1</td>\n",
       "    </tr>\n",
       "  </tbody>\n",
       "</table>\n",
       "<p>2032 rows × 13 columns</p>\n",
       "</div>"
      ],
      "text/plain": [
       "      sentiment_score        Date  sentiment_five  sentiment_month  \\\n",
       "0           -0.242536  2008-06-09       -0.212552        -0.212691   \n",
       "1           -0.304740  2008-06-10       -0.212552        -0.212691   \n",
       "2           -0.143736  2008-06-11       -0.212552        -0.212691   \n",
       "3           -0.128564  2008-06-12       -0.212552        -0.212691   \n",
       "4           -0.252312  2008-06-13       -0.212552        -0.212691   \n",
       "5           -0.230048  2008-06-16       -0.206019        -0.212691   \n",
       "6           -0.208244  2008-06-17       -0.201733        -0.212691   \n",
       "7           -0.249704  2008-06-18       -0.194854        -0.212691   \n",
       "8           -0.095984  2008-06-19       -0.188885        -0.212691   \n",
       "9           -0.419844  2008-06-20       -0.225295        -0.212691   \n",
       "10          -0.193092  2008-06-23       -0.227085        -0.212691   \n",
       "11          -0.146004  2008-06-24       -0.216580        -0.212691   \n",
       "12          -0.203948  2008-06-25       -0.216043        -0.212691   \n",
       "13          -0.315736  2008-06-26       -0.224297        -0.212691   \n",
       "14          -0.183500  2008-06-27       -0.235236        -0.212691   \n",
       "15          -0.075520  2008-06-30       -0.214915        -0.212691   \n",
       "16          -0.021204  2008-07-01       -0.193429        -0.212691   \n",
       "17          -0.183992  2008-07-02       -0.198178        -0.212691   \n",
       "18          -0.250220  2008-07-03       -0.203962        -0.212691   \n",
       "19          -0.261052  2008-07-07       -0.185056        -0.212691   \n",
       "20          -0.130532  2008-07-08       -0.191933        -0.214803   \n",
       "21          -0.284932  2008-07-09       -0.224899        -0.212304   \n",
       "22          -0.242840  2008-07-10       -0.232255        -0.212313   \n",
       "23           0.014468  2008-07-11       -0.199168        -0.202016   \n",
       "24          -0.147404  2008-07-14       -0.186988        -0.204158   \n",
       "25          -0.153760  2008-07-15       -0.173577        -0.203306   \n",
       "26          -0.218728  2008-07-16       -0.184601        -0.205006   \n",
       "27          -0.061580  2008-07-17       -0.156682        -0.199571   \n",
       "28          -0.143932  2008-07-18       -0.144319        -0.197497   \n",
       "29          -0.308484  2008-07-21       -0.179111        -0.195624   \n",
       "...               ...         ...             ...              ...   \n",
       "2002        -0.177904  2016-05-20       -0.158309        -0.176571   \n",
       "2003        -0.319948  2016-05-23       -0.247172        -0.200581   \n",
       "2004        -0.149340  2016-05-24       -0.240810        -0.197763   \n",
       "2005        -0.347872  2016-05-25       -0.264589        -0.202635   \n",
       "2006        -0.237692  2016-05-26       -0.274973        -0.201949   \n",
       "2007        -0.249088  2016-05-27       -0.278318        -0.202752   \n",
       "2008        -0.183956  2016-05-31       -0.200678        -0.198291   \n",
       "2009        -0.337916  2016-06-01       -0.224250        -0.208639   \n",
       "2010        -0.274064  2016-06-02       -0.215024        -0.207091   \n",
       "2011        -0.130016  2016-06-03       -0.201565        -0.209505   \n",
       "2012        -0.257180  2016-06-06       -0.203940        -0.205082   \n",
       "2013        -0.120532  2016-06-07       -0.206251        -0.201794   \n",
       "2014        -0.091440  2016-06-08       -0.194686        -0.201785   \n",
       "2015        -0.088084  2016-06-09       -0.163457        -0.200846   \n",
       "2016        -0.131348  2016-06-10       -0.145618        -0.194942   \n",
       "2017        -0.155468  2016-06-13       -0.158441        -0.200774   \n",
       "2018        -0.152276  2016-06-14       -0.145327        -0.202441   \n",
       "2019        -0.303500  2016-06-15       -0.168199        -0.206272   \n",
       "2020        -0.270616  2016-06-16       -0.190596        -0.208542   \n",
       "2021        -0.295452  2016-06-17       -0.216517        -0.212988   \n",
       "2022        -0.350348  2016-06-20       -0.232593        -0.217136   \n",
       "2023        -0.343768  2016-06-21       -0.256130        -0.216729   \n",
       "2024        -0.095448  2016-06-22       -0.249027        -0.207281   \n",
       "2025        -0.158004  2016-06-23       -0.230840        -0.202057   \n",
       "2026        -0.046832  2016-06-24       -0.202867        -0.198751   \n",
       "2027        -0.142656  2016-06-27       -0.159179        -0.180827   \n",
       "2028        -0.069436  2016-06-28       -0.124064        -0.176226   \n",
       "2029        -0.205284  2016-06-29       -0.106754        -0.178869   \n",
       "2030        -0.280596  2016-06-30       -0.129897        -0.184629   \n",
       "2031        -0.338272  2016-07-01       -0.152431        -0.189606   \n",
       "\n",
       "      sentiment_year      Date_x  PE_ratio    Change  change_five  \\\n",
       "0          -0.214041  2008-06-09     26.11  0.005775     0.000262   \n",
       "1          -0.214041  2008-06-10     26.11  0.000769     0.000262   \n",
       "2          -0.214041  2008-06-11     26.11 -0.016761     0.000262   \n",
       "3          -0.214041  2008-06-12     26.11  0.004784     0.000262   \n",
       "4          -0.214041  2008-06-13     26.11  0.013653     0.001644   \n",
       "5          -0.214041  2008-06-16     26.11 -0.003109    -0.000133   \n",
       "6          -0.214041  2008-06-17     26.11 -0.008866    -0.002060   \n",
       "7          -0.214041  2008-06-18     26.11 -0.010793    -0.000866   \n",
       "8          -0.214041  2008-06-19     26.11  0.002829    -0.001257   \n",
       "9          -0.214041  2008-06-20     26.11 -0.018271    -0.007642   \n",
       "10         -0.214041  2008-06-23     26.11 -0.000028    -0.007026   \n",
       "11         -0.214041  2008-06-24     26.11 -0.002950    -0.005842   \n",
       "12         -0.214041  2008-06-25     26.11  0.000373    -0.003609   \n",
       "13         -0.214041  2008-06-26     26.11 -0.030343    -0.010244   \n",
       "14         -0.214041  2008-06-27     26.11 -0.009334    -0.008456   \n",
       "15         -0.214041  2008-06-30     26.11  0.000308    -0.008389   \n",
       "16         -0.214041  2008-07-01     25.37  0.002841    -0.007231   \n",
       "17         -0.214041  2008-07-02     25.37 -0.014650    -0.010236   \n",
       "18         -0.214041  2008-07-03     25.37  0.006512    -0.002865   \n",
       "19         -0.214041  2008-07-07     25.37 -0.005012    -0.002000   \n",
       "20         -0.214041  2008-07-08     25.37  0.013555     0.000649   \n",
       "21         -0.214041  2008-07-09     25.37 -0.020798    -0.004079   \n",
       "22         -0.214041  2008-07-10     25.37  0.007318     0.000315   \n",
       "23         -0.214041  2008-07-11     25.37 -0.011442    -0.003276   \n",
       "24         -0.214041  2008-07-14     25.37 -0.004085    -0.003090   \n",
       "25         -0.214041  2008-07-15     25.37 -0.008381    -0.007478   \n",
       "26         -0.214041  2008-07-16     25.37  0.025244     0.001731   \n",
       "27         -0.214041  2008-07-17     25.37  0.018451     0.003958   \n",
       "28         -0.214041  2008-07-18     25.37  0.004360     0.007118   \n",
       "29         -0.214041  2008-07-21     25.37 -0.002543     0.007427   \n",
       "...              ...         ...       ...       ...          ...   \n",
       "2002       -0.195038  2016-05-20     23.81  0.003759    -0.000368   \n",
       "2003       -0.197131  2016-05-23     23.81 -0.000458    -0.002460   \n",
       "2004       -0.196779  2016-05-24     23.81  0.012183     0.002018   \n",
       "2005       -0.197213  2016-05-25     23.81  0.008215     0.003699   \n",
       "2006       -0.197461  2016-05-26     23.81 -0.001301     0.004480   \n",
       "2007       -0.197460  2016-05-27     23.81  0.002520     0.004232   \n",
       "2008       -0.197280  2016-05-31     23.81 -0.004813     0.003361   \n",
       "2009       -0.197186  2016-06-01     23.97  0.000139     0.000952   \n",
       "2010       -0.197012  2016-06-02     23.97  0.002748    -0.000141   \n",
       "2011       -0.197075  2016-06-03     23.97 -0.001766    -0.000234   \n",
       "2012       -0.198045  2016-06-06     23.97  0.006361     0.000534   \n",
       "2013       -0.197655  2016-06-07     23.97  0.001002     0.001697   \n",
       "2014       -0.197580  2016-06-08     23.97  0.003722     0.002413   \n",
       "2015       -0.197769  2016-06-09     23.97 -0.001103     0.001643   \n",
       "2016       -0.197782  2016-06-10     23.97 -0.006664     0.000664   \n",
       "2017       -0.198422  2016-06-13     23.97 -0.007437    -0.002096   \n",
       "2018       -0.198611  2016-06-14     23.97 -0.003252    -0.002947   \n",
       "2019       -0.198898  2016-06-15     23.97 -0.001960    -0.004083   \n",
       "2020       -0.199295  2016-06-16     23.97  0.005268    -0.002809   \n",
       "2021       -0.199673  2016-06-17     23.97 -0.003267    -0.002130   \n",
       "2022       -0.200071  2016-06-20     23.97  0.007338     0.000825   \n",
       "2023       -0.200642  2016-06-21     23.97  0.001396     0.001755   \n",
       "2024       -0.200323  2016-06-22     23.97 -0.002743     0.001599   \n",
       "2025       -0.200451  2016-06-23     23.97  0.012949     0.003135   \n",
       "2026       -0.200185  2016-06-24     23.97 -0.033886    -0.002989   \n",
       "2027       -0.199778  2016-06-27     23.97 -0.014971    -0.007451   \n",
       "2028       -0.199254  2016-06-28     23.97  0.015722    -0.004586   \n",
       "2029       -0.199156  2016-06-29     23.97  0.016368    -0.000764   \n",
       "2030       -0.199599  2016-06-30     23.97  0.013298    -0.000694   \n",
       "2031       -0.200138  2016-07-01     24.52  0.001081     0.006300   \n",
       "\n",
       "      change_month   change_year  Response  Res_cat  \n",
       "0         0.000283  4.172278e-04  0.000769        1  \n",
       "1         0.000283  4.172278e-04 -0.016761        0  \n",
       "2         0.000283  4.172278e-04  0.004784        1  \n",
       "3         0.000283  4.172278e-04  0.013653        1  \n",
       "4         0.000283  4.172278e-04 -0.003109        0  \n",
       "5         0.000283  4.172278e-04 -0.008866        0  \n",
       "6         0.000283  4.172278e-04 -0.010793        0  \n",
       "7         0.000283  4.172278e-04  0.002829        1  \n",
       "8         0.000283  4.172278e-04 -0.018271        0  \n",
       "9         0.000283  4.172278e-04 -0.000028        0  \n",
       "10        0.000283  4.172278e-04 -0.002950        0  \n",
       "11        0.000283  4.172278e-04  0.000373        1  \n",
       "12        0.000283  4.172278e-04 -0.030343        0  \n",
       "13        0.000283  4.172278e-04 -0.009334        0  \n",
       "14        0.000283  4.172278e-04  0.000308        1  \n",
       "15        0.000283  4.172278e-04  0.002841        1  \n",
       "16        0.000283  4.172278e-04 -0.014650        0  \n",
       "17        0.000283  4.172278e-04  0.006512        1  \n",
       "18        0.000283  4.172278e-04 -0.005012        0  \n",
       "19        0.000283  4.172278e-04  0.013555        1  \n",
       "20       -0.003272  4.172278e-04 -0.020798        0  \n",
       "21       -0.004538  4.172278e-04  0.007318        1  \n",
       "22       -0.004226  4.172278e-04 -0.011442        0  \n",
       "23       -0.003972  4.172278e-04 -0.004085        0  \n",
       "24       -0.004395  4.172278e-04 -0.008381        0  \n",
       "25       -0.005444  4.172278e-04  0.025244        1  \n",
       "26       -0.004094  4.172278e-04  0.018451        1  \n",
       "27       -0.002793  4.172278e-04  0.004360        1  \n",
       "28       -0.002072  4.172278e-04 -0.002543        0  \n",
       "29       -0.002327  4.172278e-04  0.011787        1  \n",
       "...            ...           ...       ...      ...  \n",
       "2002     -0.001269 -1.108506e-04 -0.000458        0  \n",
       "2003     -0.001347 -7.105021e-05  0.012183        1  \n",
       "2004     -0.000697 -4.933102e-05  0.008215        1  \n",
       "2005     -0.000340 -8.513384e-06 -0.001301        0  \n",
       "2006     -0.000538  1.167749e-05  0.002520        1  \n",
       "2007      0.000138  1.515083e-05 -0.004813        0  \n",
       "2008      0.000062  2.254511e-06  0.000139        1  \n",
       "2009     -0.000247 -1.142127e-05  0.002748        1  \n",
       "2010      0.000258  3.714844e-05 -0.001766        0  \n",
       "2011      0.000441  4.259996e-05  0.006361        1  \n",
       "2012      0.000718  8.644817e-05  0.001002        1  \n",
       "2013      0.000550  9.100190e-05  0.003722        1  \n",
       "2014      0.000821  5.282135e-05 -0.001103        0  \n",
       "2015      0.000170  3.980151e-05 -0.006664        0  \n",
       "2016      0.000430  4.428896e-05 -0.007437        0  \n",
       "2017      0.000050  3.862664e-05 -0.003252        0  \n",
       "2018      0.000393  2.976019e-07 -0.001960        0  \n",
       "2019     -0.000176 -1.446876e-05  0.005268        1  \n",
       "2020      0.000560 -3.348593e-05 -0.003267        0  \n",
       "2021      0.000414 -2.453498e-05  0.007338        1  \n",
       "2022      0.001011 -1.825905e-05  0.001396        1  \n",
       "2023      0.000899 -1.803697e-05 -0.002743        0  \n",
       "2024      0.000790  1.012134e-05  0.012949        1  \n",
       "2025      0.000826  7.849941e-05 -0.033886        0  \n",
       "2026     -0.001178 -6.904610e-05 -0.014971        0  \n",
       "2027     -0.001829 -5.092090e-05  0.015722        1  \n",
       "2028     -0.001201  6.473137e-06  0.016368        1  \n",
       "2029     -0.000192  4.038891e-05  0.013298        1  \n",
       "2030      0.000435  9.960772e-05  0.001081        1  \n",
       "2031      0.000355  1.143691e-04  0.000267        1  \n",
       "\n",
       "[2032 rows x 13 columns]"
      ]
     },
     "execution_count": 53,
     "metadata": {},
     "output_type": "execute_result"
    }
   ],
   "source": [
    "merged_final"
   ]
  },
  {
   "cell_type": "markdown",
   "metadata": {},
   "source": [
    "# Modeling"
   ]
  },
  {
   "cell_type": "code",
   "execution_count": 91,
   "metadata": {},
   "outputs": [],
   "source": [
    "train = merged_final[0:1500]\n",
    "test = merged_final[1500:len(merged_final)]"
   ]
  },
  {
   "cell_type": "markdown",
   "metadata": {},
   "source": [
    "### Linear Regression"
   ]
  },
  {
   "cell_type": "code",
   "execution_count": 92,
   "metadata": {},
   "outputs": [],
   "source": [
    "from sklearn.linear_model import LinearRegression\n",
    "model = LinearRegression()\n",
    "model = model.fit(pd.DataFrame(train[['sentiment_score', 'sentiment_five', 'sentiment_month', 'sentiment_year', 'PE_ratio', 'change_five', 'change_month', 'change_year']]), np.ravel(train['Response']))"
   ]
  },
  {
   "cell_type": "code",
   "execution_count": 93,
   "metadata": {},
   "outputs": [],
   "source": [
    "predicted = model.predict(pd.DataFrame(test[['sentiment_score', 'sentiment_five', 'sentiment_month', 'sentiment_year', 'PE_ratio', 'change_five', 'change_month', 'change_year']]))"
   ]
  },
  {
   "cell_type": "code",
   "execution_count": 94,
   "metadata": {},
   "outputs": [
    {
     "name": "stdout",
     "output_type": "stream",
     "text": [
      "0.9019860694469614\n"
     ]
    }
   ],
   "source": [
    "from sklearn.metrics import mean_squared_error\n",
    "from math import sqrt\n",
    "rmse_linear = sqrt(mean_squared_error(predicted, test['Response']))\n",
    "\n",
    "print(rmse_linear*100)\n",
    "\n",
    "# Well, thats very bad"
   ]
  },
  {
   "cell_type": "code",
   "execution_count": 95,
   "metadata": {},
   "outputs": [
    {
     "data": {
      "text/plain": [
       "49.24812030075188"
      ]
     },
     "execution_count": 95,
     "metadata": {},
     "output_type": "execute_result"
    }
   ],
   "source": [
    "def get_accuracy(predicted):\n",
    "\n",
    "    predicted = pd.DataFrame(predicted)\n",
    "    predicted['categorical'] = 2\n",
    "    \n",
    "    for i in range(0,len(predicted)):\n",
    "        if predicted.iloc[i,0] >= 0:\n",
    "            predicted.iloc[i,1] = 1\n",
    "        else:\n",
    "            predicted.iloc[i,1] = 0\n",
    "    \n",
    "    count = 0\n",
    "    \n",
    "    for i in range(0,len(predicted)):\n",
    "        if predicted['categorical'][i] == test.iloc[i,12]:\n",
    "            count = count + 1\n",
    "    \n",
    "    return (count*100/len(predicted))\n",
    "\n",
    "get_accuracy(predicted)\n",
    "\n",
    "# 49.2%. Pretty bad"
   ]
  },
  {
   "cell_type": "markdown",
   "metadata": {},
   "source": [
    "### Logistic Regression"
   ]
  },
  {
   "cell_type": "code",
   "execution_count": 96,
   "metadata": {},
   "outputs": [],
   "source": [
    "model = LogisticRegression()\n",
    "model = model.fit(pd.DataFrame(train[['sentiment_score', 'sentiment_five', 'sentiment_month', 'sentiment_year', 'PE_ratio', 'change_five', 'change_month', 'change_year']]), np.ravel(train['Res_cat']))\n",
    "predicted = model.predict(pd.DataFrame(test[['sentiment_score', 'sentiment_five', 'sentiment_month', 'sentiment_year', 'PE_ratio', 'change_five', 'change_month', 'change_year']]))"
   ]
  },
  {
   "cell_type": "code",
   "execution_count": 97,
   "metadata": {},
   "outputs": [
    {
     "data": {
      "text/plain": [
       "53.00751879699248"
      ]
     },
     "execution_count": 97,
     "metadata": {},
     "output_type": "execute_result"
    }
   ],
   "source": [
    "get_accuracy(predicted)\n",
    "\n",
    "# 53%. Finally, I got something small"
   ]
  },
  {
   "cell_type": "code",
   "execution_count": 129,
   "metadata": {},
   "outputs": [],
   "source": [
    "probs = model.predict_proba(pd.DataFrame(test[['sentiment_score', 'sentiment_five', 'sentiment_month', 'sentiment_year', 'PE_ratio', 'change_five', 'change_month', 'change_year']]))"
   ]
  },
  {
   "cell_type": "code",
   "execution_count": 128,
   "metadata": {},
   "outputs": [],
   "source": [
    "def get_accuracy_probs(probs):\n",
    "    \n",
    "    probs = pd.DataFrame(probs)\n",
    "    pos_percentile = train['Res_cat'].mean()\n",
    "    prob_cutoff = probs.quantile([pos_percentile])[1]\n",
    "    prob_cutoff = pd.DataFrame(prob_cutoff)\n",
    "    \n",
    "    for i in range(0,len(probs)):\n",
    "        if probs.iloc[i,1] >= prob_cutoff.iloc[0,0]:\n",
    "            probs.iloc[i,1] = 1\n",
    "        else:\n",
    "            probs.iloc[i,1] = 0\n",
    "        \n",
    "    count = 0\n",
    "    \n",
    "    for i in range(0,len(probs)):\n",
    "        if probs.iloc[i,1] == test.iloc[i,12]:\n",
    "            count = count + 1\n",
    "    \n",
    "    return (count*100/len(predicted))"
   ]
  },
  {
   "cell_type": "code",
   "execution_count": 130,
   "metadata": {},
   "outputs": [
    {
     "data": {
      "text/plain": [
       "48.1203007518797"
      ]
     },
     "execution_count": 130,
     "metadata": {},
     "output_type": "execute_result"
    }
   ],
   "source": [
    "get_accuracy_probs(probs)\n",
    "\n",
    "# this sucks. \n",
    "\n",
    "# Lesson: Stop trying to predict stock market and keep investing in long term."
   ]
  },
  {
   "cell_type": "markdown",
   "metadata": {},
   "source": [
    "### Naive Bayes"
   ]
  },
  {
   "cell_type": "code",
   "execution_count": 75,
   "metadata": {},
   "outputs": [
    {
     "data": {
      "text/plain": [
       "BernoulliNB(alpha=1.0, binarize=0.0, class_prior=None, fit_prior=True)"
      ]
     },
     "execution_count": 75,
     "metadata": {},
     "output_type": "execute_result"
    }
   ],
   "source": [
    "# Why don't we try Binomial Naive Bayes\n",
    "\n",
    "x = pd.DataFrame(train[['sentiment_score', 'sentiment_five', 'sentiment_month', 'sentiment_year', 'PE_ratio', 'change_five', 'change_month', 'change_year']])\n",
    "y = train['Res_cat']\n",
    "\n",
    "bnb = BernoulliNB()\n",
    "bnb.fit(x,y)\n",
    "\n",
    "predicted = bnb.predict(pd.DataFrame(test[['sentiment_score', 'sentiment_five', 'sentiment_month', 'sentiment_year', 'PE_ratio', 'change_five', 'change_month', 'change_year']]))"
   ]
  },
  {
   "cell_type": "code",
   "execution_count": 82,
   "metadata": {},
   "outputs": [
    {
     "data": {
      "text/plain": [
       "53.00751879699248"
      ]
     },
     "execution_count": 82,
     "metadata": {},
     "output_type": "execute_result"
    }
   ],
   "source": [
    "get_accuracy(predicted)\n",
    "\n",
    "# 53% from Naive Bayes!!!. I am losing my mind"
   ]
  },
  {
   "cell_type": "code",
   "execution_count": 131,
   "metadata": {},
   "outputs": [
    {
     "data": {
      "text/plain": [
       "51.31578947368421"
      ]
     },
     "execution_count": 131,
     "metadata": {},
     "output_type": "execute_result"
    }
   ],
   "source": [
    "probs = bnb.predict_proba(pd.DataFrame(test[['sentiment_score', 'sentiment_five', 'sentiment_month', 'sentiment_year', 'PE_ratio', 'change_five', 'change_month', 'change_year']]))\n",
    "\n",
    "get_accuracy_probs(probs)\n",
    "\n",
    "#51.3. Still nothing"
   ]
  },
  {
   "cell_type": "markdown",
   "metadata": {},
   "source": [
    "### LDA"
   ]
  },
  {
   "cell_type": "code",
   "execution_count": 134,
   "metadata": {},
   "outputs": [],
   "source": [
    "from sklearn.discriminant_analysis import LinearDiscriminantAnalysis\n",
    "\n",
    "model = LinearDiscriminantAnalysis()\n",
    "model = model.fit(pd.DataFrame(train[['sentiment_score', 'sentiment_five', 'sentiment_month', 'sentiment_year', 'PE_ratio', 'change_five', 'change_month', 'change_year']]), np.ravel(train['Res_cat']))\n",
    "predicted = model.predict(pd.DataFrame(test[['sentiment_score', 'sentiment_five', 'sentiment_month', 'sentiment_year', 'PE_ratio', 'change_five', 'change_month', 'change_year']]))"
   ]
  },
  {
   "cell_type": "code",
   "execution_count": 135,
   "metadata": {},
   "outputs": [
    {
     "data": {
      "text/plain": [
       "53.00751879699248"
      ]
     },
     "execution_count": 135,
     "metadata": {},
     "output_type": "execute_result"
    }
   ],
   "source": [
    "get_accuracy(predicted)\n",
    "\n",
    "# All pos"
   ]
  },
  {
   "cell_type": "code",
   "execution_count": 136,
   "metadata": {},
   "outputs": [
    {
     "data": {
      "text/plain": [
       "48.87218045112782"
      ]
     },
     "execution_count": 136,
     "metadata": {},
     "output_type": "execute_result"
    }
   ],
   "source": [
    "probs = model.predict_proba(pd.DataFrame(test[['sentiment_score', 'sentiment_five', 'sentiment_month', 'sentiment_year', 'PE_ratio', 'change_five', 'change_month', 'change_year']]))\n",
    "\n",
    "get_accuracy_probs(probs)\n",
    "\n",
    "#48.7. Still nothing"
   ]
  },
  {
   "cell_type": "markdown",
   "metadata": {},
   "source": [
    "### Random Forest regression"
   ]
  },
  {
   "cell_type": "code",
   "execution_count": 148,
   "metadata": {},
   "outputs": [],
   "source": [
    "from sklearn.ensemble import RandomForestRegressor\n",
    "model = RandomForestRegressor(n_estimators=1000, criterion='mse', max_features='sqrt')\n",
    "model = model.fit(pd.DataFrame(train[['sentiment_score', 'sentiment_five', 'sentiment_month', 'sentiment_year', 'PE_ratio', 'change_five', 'change_month', 'change_year']]), np.ravel(train['Response']))"
   ]
  },
  {
   "cell_type": "code",
   "execution_count": 149,
   "metadata": {},
   "outputs": [],
   "source": [
    "predicted = model.predict(pd.DataFrame(test[['sentiment_score', 'sentiment_five', 'sentiment_month', 'sentiment_year', 'PE_ratio', 'change_five', 'change_month', 'change_year']]))"
   ]
  },
  {
   "cell_type": "code",
   "execution_count": 150,
   "metadata": {},
   "outputs": [
    {
     "name": "stdout",
     "output_type": "stream",
     "text": [
      "0.9232045154369573\n"
     ]
    }
   ],
   "source": [
    "rmse_linear = sqrt(mean_squared_error(predicted, test['Response']))\n",
    "print(rmse_linear*100)\n",
    "\n",
    "# As bad as linear regression"
   ]
  },
  {
   "cell_type": "code",
   "execution_count": 151,
   "metadata": {},
   "outputs": [
    {
     "data": {
      "text/plain": [
       "52.255639097744364"
      ]
     },
     "execution_count": 151,
     "metadata": {},
     "output_type": "execute_result"
    }
   ],
   "source": [
    "get_accuracy(predicted)"
   ]
  },
  {
   "cell_type": "markdown",
   "metadata": {},
   "source": [
    "### Random Forest Classifier"
   ]
  },
  {
   "cell_type": "code",
   "execution_count": 153,
   "metadata": {},
   "outputs": [],
   "source": [
    "from sklearn.ensemble import RandomForestClassifier\n",
    "model = RandomForestClassifier(n_estimators=1000, max_features='sqrt')\n",
    "model = model.fit(pd.DataFrame(train[['sentiment_score', 'sentiment_five', 'sentiment_month', 'sentiment_year', 'PE_ratio', 'change_five', 'change_month', 'change_year']]), np.ravel(train['Res_cat']))"
   ]
  },
  {
   "cell_type": "code",
   "execution_count": 154,
   "metadata": {},
   "outputs": [
    {
     "data": {
      "text/plain": [
       "53.00751879699248"
      ]
     },
     "execution_count": 154,
     "metadata": {},
     "output_type": "execute_result"
    }
   ],
   "source": [
    "predicted = model.predict(pd.DataFrame(test[['sentiment_score', 'sentiment_five', 'sentiment_month', 'sentiment_year', 'PE_ratio', 'change_five', 'change_month', 'change_year']]))\n",
    "get_accuracy(predicted)\n",
    "\n",
    "# All pos. The same 53 again"
   ]
  },
  {
   "cell_type": "code",
   "execution_count": 155,
   "metadata": {},
   "outputs": [
    {
     "data": {
      "text/plain": [
       "47.744360902255636"
      ]
     },
     "execution_count": 155,
     "metadata": {},
     "output_type": "execute_result"
    }
   ],
   "source": [
    "probs = model.predict_proba(pd.DataFrame(test[['sentiment_score', 'sentiment_five', 'sentiment_month', 'sentiment_year', 'PE_ratio', 'change_five', 'change_month', 'change_year']]))\n",
    "\n",
    "get_accuracy_probs(probs)\n",
    "\n",
    "#47.7. Still nothing"
   ]
  },
  {
   "cell_type": "markdown",
   "metadata": {},
   "source": [
    "### SVM Regression"
   ]
  },
  {
   "cell_type": "code",
   "execution_count": 162,
   "metadata": {},
   "outputs": [],
   "source": [
    "from sklearn.svm import SVR\n",
    "model = SVR()\n",
    "model = model.fit(pd.DataFrame(train[['sentiment_score', 'sentiment_five', 'sentiment_month', 'sentiment_year', 'PE_ratio', 'change_five', 'change_month', 'change_year']]), np.ravel(train['Response']))"
   ]
  },
  {
   "cell_type": "code",
   "execution_count": 163,
   "metadata": {},
   "outputs": [
    {
     "name": "stdout",
     "output_type": "stream",
     "text": [
      "1.8205633287765537\n"
     ]
    }
   ],
   "source": [
    "predicted = model.predict(pd.DataFrame(test[['sentiment_score', 'sentiment_five', 'sentiment_month', 'sentiment_year', 'PE_ratio', 'change_five', 'change_month', 'change_year']]))\n",
    "rmse_linear = sqrt(mean_squared_error(predicted, test['Response']))\n",
    "print(rmse_linear*100)\n",
    "\n",
    "# OMG. It just keeps getting worse"
   ]
  },
  {
   "cell_type": "code",
   "execution_count": 164,
   "metadata": {},
   "outputs": [
    {
     "data": {
      "text/plain": [
       "53.00751879699248"
      ]
     },
     "execution_count": 164,
     "metadata": {},
     "output_type": "execute_result"
    }
   ],
   "source": [
    "get_accuracy(predicted)"
   ]
  },
  {
   "cell_type": "markdown",
   "metadata": {},
   "source": [
    "### SVM Classifier"
   ]
  },
  {
   "cell_type": "code",
   "execution_count": 169,
   "metadata": {},
   "outputs": [],
   "source": [
    "from sklearn.svm import SVC\n",
    "model = SVC(gamma=0.01, C=100, probability = True)\n",
    "model = model.fit(pd.DataFrame(train[['sentiment_score', 'sentiment_five', 'sentiment_month', 'sentiment_year', 'PE_ratio', 'change_five', 'change_month', 'change_year']]), np.ravel(train['Res_cat']))"
   ]
  },
  {
   "cell_type": "code",
   "execution_count": 170,
   "metadata": {},
   "outputs": [
    {
     "data": {
      "text/plain": [
       "53.00751879699248"
      ]
     },
     "execution_count": 170,
     "metadata": {},
     "output_type": "execute_result"
    }
   ],
   "source": [
    "predicted = model.predict(pd.DataFrame(test[['sentiment_score', 'sentiment_five', 'sentiment_month', 'sentiment_year', 'PE_ratio', 'change_five', 'change_month', 'change_year']]))\n",
    "get_accuracy(predicted)\n",
    "\n",
    "# All pos. The same 53 again"
   ]
  },
  {
   "cell_type": "code",
   "execution_count": 171,
   "metadata": {},
   "outputs": [
    {
     "data": {
      "text/plain": [
       "50.37593984962406"
      ]
     },
     "execution_count": 171,
     "metadata": {},
     "output_type": "execute_result"
    }
   ],
   "source": [
    "probs = model.predict_proba(pd.DataFrame(test[['sentiment_score', 'sentiment_five', 'sentiment_month', 'sentiment_year', 'PE_ratio', 'change_five', 'change_month', 'change_year']]))\n",
    "\n",
    "get_accuracy_probs(probs)\n",
    "\n",
    "#50.4. Still nothing"
   ]
  }
 ],
 "metadata": {
  "kernelspec": {
   "display_name": "Python 3",
   "language": "python",
   "name": "python3"
  },
  "language_info": {
   "codemirror_mode": {
    "name": "ipython",
    "version": 3
   },
   "file_extension": ".py",
   "mimetype": "text/x-python",
   "name": "python",
   "nbconvert_exporter": "python",
   "pygments_lexer": "ipython3",
   "version": "3.6.3"
  }
 },
 "nbformat": 4,
 "nbformat_minor": 2
}
